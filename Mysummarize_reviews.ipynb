{
 "cells": [
  {
   "cell_type": "markdown",
   "metadata": {},
   "source": [
    "# Summarizing Text with Amazon Reviews"
   ]
  },
  {
   "cell_type": "markdown",
   "metadata": {},
   "source": [
    "数据集：Amazon 500000评论\n",
    "\n",
    "\n",
    "本节内容:\n",
    "- 数据预处理\n",
    "- 构建Seq2Seq模型\n",
    "- 训练网络\n",
    "- 测试效果\n",
    "\n",
    "seq2seq教程: https://github.com/j-min/tf_tutorial_plus/tree/master/RNN_seq2seq/contrib_seq2seq"
   ]
  },
  {
   "cell_type": "code",
   "execution_count": 1,
   "metadata": {
    "collapsed": false
   },
   "outputs": [
    {
     "name": "stderr",
     "output_type": "stream",
     "text": [
      "F:\\anaconda3\\envs\\tensorflow\\lib\\site-packages\\sklearn\\utils\\fixes.py:313: FutureWarning: numpy not_equal will not check object identity in the future. The comparison did not return the same result as suggested by the identity (`is`)) and will change.\n",
      "  _nan_object_mask = _nan_object_array != _nan_object_array\n"
     ]
    },
    {
     "name": "stdout",
     "output_type": "stream",
     "text": [
      "TensorFlow Version: 1.1.0\n"
     ]
    }
   ],
   "source": [
    "import pandas as pd\n",
    "import numpy as np\n",
    "import tensorflow as tf\n",
    "import re\n",
    "from nltk.corpus import stopwords\n",
    "import time\n",
    "from tensorflow.python.layers.core import Dense\n",
    "from tensorflow.python.ops.rnn_cell_impl import _zero_state_tensors\n",
    "print('TensorFlow Version: {}'.format(tf.__version__))"
   ]
  },
  {
   "cell_type": "code",
   "execution_count": 2,
   "metadata": {
    "collapsed": false
   },
   "outputs": [],
   "source": [
    "reviews = pd.read_csv(\"Reviews.csv\")\n",
    "# nltk.download()"
   ]
  },
  {
   "cell_type": "code",
   "execution_count": 3,
   "metadata": {
    "collapsed": false
   },
   "outputs": [
    {
     "data": {
      "text/plain": [
       "(568454, 10)"
      ]
     },
     "execution_count": 3,
     "metadata": {},
     "output_type": "execute_result"
    }
   ],
   "source": [
    "reviews.shape"
   ]
  },
  {
   "cell_type": "code",
   "execution_count": 4,
   "metadata": {
    "collapsed": false
   },
   "outputs": [
    {
     "data": {
      "text/html": [
       "<div>\n",
       "<style scoped>\n",
       "    .dataframe tbody tr th:only-of-type {\n",
       "        vertical-align: middle;\n",
       "    }\n",
       "\n",
       "    .dataframe tbody tr th {\n",
       "        vertical-align: top;\n",
       "    }\n",
       "\n",
       "    .dataframe thead th {\n",
       "        text-align: right;\n",
       "    }\n",
       "</style>\n",
       "<table border=\"1\" class=\"dataframe\">\n",
       "  <thead>\n",
       "    <tr style=\"text-align: right;\">\n",
       "      <th></th>\n",
       "      <th>Id</th>\n",
       "      <th>ProductId</th>\n",
       "      <th>UserId</th>\n",
       "      <th>ProfileName</th>\n",
       "      <th>HelpfulnessNumerator</th>\n",
       "      <th>HelpfulnessDenominator</th>\n",
       "      <th>Score</th>\n",
       "      <th>Time</th>\n",
       "      <th>Summary</th>\n",
       "      <th>Text</th>\n",
       "    </tr>\n",
       "  </thead>\n",
       "  <tbody>\n",
       "    <tr>\n",
       "      <th>0</th>\n",
       "      <td>1</td>\n",
       "      <td>B001E4KFG0</td>\n",
       "      <td>A3SGXH7AUHU8GW</td>\n",
       "      <td>delmartian</td>\n",
       "      <td>1</td>\n",
       "      <td>1</td>\n",
       "      <td>5</td>\n",
       "      <td>1303862400</td>\n",
       "      <td>Good Quality Dog Food</td>\n",
       "      <td>I have bought several of the Vitality canned d...</td>\n",
       "    </tr>\n",
       "    <tr>\n",
       "      <th>1</th>\n",
       "      <td>2</td>\n",
       "      <td>B00813GRG4</td>\n",
       "      <td>A1D87F6ZCVE5NK</td>\n",
       "      <td>dll pa</td>\n",
       "      <td>0</td>\n",
       "      <td>0</td>\n",
       "      <td>1</td>\n",
       "      <td>1346976000</td>\n",
       "      <td>Not as Advertised</td>\n",
       "      <td>Product arrived labeled as Jumbo Salted Peanut...</td>\n",
       "    </tr>\n",
       "    <tr>\n",
       "      <th>2</th>\n",
       "      <td>3</td>\n",
       "      <td>B000LQOCH0</td>\n",
       "      <td>ABXLMWJIXXAIN</td>\n",
       "      <td>Natalia Corres \"Natalia Corres\"</td>\n",
       "      <td>1</td>\n",
       "      <td>1</td>\n",
       "      <td>4</td>\n",
       "      <td>1219017600</td>\n",
       "      <td>\"Delight\" says it all</td>\n",
       "      <td>This is a confection that has been around a fe...</td>\n",
       "    </tr>\n",
       "    <tr>\n",
       "      <th>3</th>\n",
       "      <td>4</td>\n",
       "      <td>B000UA0QIQ</td>\n",
       "      <td>A395BORC6FGVXV</td>\n",
       "      <td>Karl</td>\n",
       "      <td>3</td>\n",
       "      <td>3</td>\n",
       "      <td>2</td>\n",
       "      <td>1307923200</td>\n",
       "      <td>Cough Medicine</td>\n",
       "      <td>If you are looking for the secret ingredient i...</td>\n",
       "    </tr>\n",
       "    <tr>\n",
       "      <th>4</th>\n",
       "      <td>5</td>\n",
       "      <td>B006K2ZZ7K</td>\n",
       "      <td>A1UQRSCLF8GW1T</td>\n",
       "      <td>Michael D. Bigham \"M. Wassir\"</td>\n",
       "      <td>0</td>\n",
       "      <td>0</td>\n",
       "      <td>5</td>\n",
       "      <td>1350777600</td>\n",
       "      <td>Great taffy</td>\n",
       "      <td>Great taffy at a great price.  There was a wid...</td>\n",
       "    </tr>\n",
       "  </tbody>\n",
       "</table>\n",
       "</div>"
      ],
      "text/plain": [
       "   Id   ProductId          UserId                      ProfileName  \\\n",
       "0   1  B001E4KFG0  A3SGXH7AUHU8GW                       delmartian   \n",
       "1   2  B00813GRG4  A1D87F6ZCVE5NK                           dll pa   \n",
       "2   3  B000LQOCH0   ABXLMWJIXXAIN  Natalia Corres \"Natalia Corres\"   \n",
       "3   4  B000UA0QIQ  A395BORC6FGVXV                             Karl   \n",
       "4   5  B006K2ZZ7K  A1UQRSCLF8GW1T    Michael D. Bigham \"M. Wassir\"   \n",
       "\n",
       "   HelpfulnessNumerator  HelpfulnessDenominator  Score        Time  \\\n",
       "0                     1                       1      5  1303862400   \n",
       "1                     0                       0      1  1346976000   \n",
       "2                     1                       1      4  1219017600   \n",
       "3                     3                       3      2  1307923200   \n",
       "4                     0                       0      5  1350777600   \n",
       "\n",
       "                 Summary                                               Text  \n",
       "0  Good Quality Dog Food  I have bought several of the Vitality canned d...  \n",
       "1      Not as Advertised  Product arrived labeled as Jumbo Salted Peanut...  \n",
       "2  \"Delight\" says it all  This is a confection that has been around a fe...  \n",
       "3         Cough Medicine  If you are looking for the secret ingredient i...  \n",
       "4            Great taffy  Great taffy at a great price.  There was a wid...  "
      ]
     },
     "execution_count": 4,
     "metadata": {},
     "output_type": "execute_result"
    }
   ],
   "source": [
    "reviews.head()"
   ]
  },
  {
   "cell_type": "code",
   "execution_count": 5,
   "metadata": {
    "collapsed": false
   },
   "outputs": [
    {
     "data": {
      "text/plain": [
       "Id                         0\n",
       "ProductId                  0\n",
       "UserId                     0\n",
       "ProfileName               16\n",
       "HelpfulnessNumerator       0\n",
       "HelpfulnessDenominator     0\n",
       "Score                      0\n",
       "Time                       0\n",
       "Summary                   27\n",
       "Text                       0\n",
       "dtype: int64"
      ]
     },
     "execution_count": 5,
     "metadata": {},
     "output_type": "execute_result"
    }
   ],
   "source": [
    "# Check for any nulls values\n",
    "reviews.isnull().sum()"
   ]
  },
  {
   "cell_type": "code",
   "execution_count": 6,
   "metadata": {
    "collapsed": false
   },
   "outputs": [],
   "source": [
    "# Remove null values and unneeded features\n",
    "reviews = reviews.dropna()\n",
    "reviews = reviews.drop(['Id','ProductId','UserId','ProfileName','HelpfulnessNumerator','HelpfulnessDenominator',\n",
    "                        'Score','Time'], 1)\n",
    "reviews = reviews.reset_index(drop=True)"
   ]
  },
  {
   "cell_type": "code",
   "execution_count": 7,
   "metadata": {
    "collapsed": false
   },
   "outputs": [
    {
     "data": {
      "text/html": [
       "<div>\n",
       "<style scoped>\n",
       "    .dataframe tbody tr th:only-of-type {\n",
       "        vertical-align: middle;\n",
       "    }\n",
       "\n",
       "    .dataframe tbody tr th {\n",
       "        vertical-align: top;\n",
       "    }\n",
       "\n",
       "    .dataframe thead th {\n",
       "        text-align: right;\n",
       "    }\n",
       "</style>\n",
       "<table border=\"1\" class=\"dataframe\">\n",
       "  <thead>\n",
       "    <tr style=\"text-align: right;\">\n",
       "      <th></th>\n",
       "      <th>Summary</th>\n",
       "      <th>Text</th>\n",
       "    </tr>\n",
       "  </thead>\n",
       "  <tbody>\n",
       "    <tr>\n",
       "      <th>0</th>\n",
       "      <td>Good Quality Dog Food</td>\n",
       "      <td>I have bought several of the Vitality canned d...</td>\n",
       "    </tr>\n",
       "    <tr>\n",
       "      <th>1</th>\n",
       "      <td>Not as Advertised</td>\n",
       "      <td>Product arrived labeled as Jumbo Salted Peanut...</td>\n",
       "    </tr>\n",
       "    <tr>\n",
       "      <th>2</th>\n",
       "      <td>\"Delight\" says it all</td>\n",
       "      <td>This is a confection that has been around a fe...</td>\n",
       "    </tr>\n",
       "    <tr>\n",
       "      <th>3</th>\n",
       "      <td>Cough Medicine</td>\n",
       "      <td>If you are looking for the secret ingredient i...</td>\n",
       "    </tr>\n",
       "    <tr>\n",
       "      <th>4</th>\n",
       "      <td>Great taffy</td>\n",
       "      <td>Great taffy at a great price.  There was a wid...</td>\n",
       "    </tr>\n",
       "    <tr>\n",
       "      <th>5</th>\n",
       "      <td>Nice Taffy</td>\n",
       "      <td>I got a wild hair for taffy and ordered this f...</td>\n",
       "    </tr>\n",
       "    <tr>\n",
       "      <th>6</th>\n",
       "      <td>Great!  Just as good as the expensive brands!</td>\n",
       "      <td>This saltwater taffy had great flavors and was...</td>\n",
       "    </tr>\n",
       "    <tr>\n",
       "      <th>7</th>\n",
       "      <td>Wonderful, tasty taffy</td>\n",
       "      <td>This taffy is so good.  It is very soft and ch...</td>\n",
       "    </tr>\n",
       "    <tr>\n",
       "      <th>8</th>\n",
       "      <td>Yay Barley</td>\n",
       "      <td>Right now I'm mostly just sprouting this so my...</td>\n",
       "    </tr>\n",
       "    <tr>\n",
       "      <th>9</th>\n",
       "      <td>Healthy Dog Food</td>\n",
       "      <td>This is a very healthy dog food. Good for thei...</td>\n",
       "    </tr>\n",
       "  </tbody>\n",
       "</table>\n",
       "</div>"
      ],
      "text/plain": [
       "                                         Summary  \\\n",
       "0                          Good Quality Dog Food   \n",
       "1                              Not as Advertised   \n",
       "2                          \"Delight\" says it all   \n",
       "3                                 Cough Medicine   \n",
       "4                                    Great taffy   \n",
       "5                                     Nice Taffy   \n",
       "6  Great!  Just as good as the expensive brands!   \n",
       "7                         Wonderful, tasty taffy   \n",
       "8                                     Yay Barley   \n",
       "9                               Healthy Dog Food   \n",
       "\n",
       "                                                Text  \n",
       "0  I have bought several of the Vitality canned d...  \n",
       "1  Product arrived labeled as Jumbo Salted Peanut...  \n",
       "2  This is a confection that has been around a fe...  \n",
       "3  If you are looking for the secret ingredient i...  \n",
       "4  Great taffy at a great price.  There was a wid...  \n",
       "5  I got a wild hair for taffy and ordered this f...  \n",
       "6  This saltwater taffy had great flavors and was...  \n",
       "7  This taffy is so good.  It is very soft and ch...  \n",
       "8  Right now I'm mostly just sprouting this so my...  \n",
       "9  This is a very healthy dog food. Good for thei...  "
      ]
     },
     "execution_count": 7,
     "metadata": {},
     "output_type": "execute_result"
    }
   ],
   "source": [
    "reviews.head(10)"
   ]
  },
  {
   "cell_type": "code",
   "execution_count": 8,
   "metadata": {
    "collapsed": false
   },
   "outputs": [
    {
     "name": "stdout",
     "output_type": "stream",
     "text": [
      "Review # 1\n",
      "Good Quality Dog Food\n",
      "I have bought several of the Vitality canned dog food products and have found them all to be of good quality. The product looks more like a stew than a processed meat and it smells better. My Labrador is finicky and she appreciates this product better than  most.\n",
      "\n",
      "Review # 2\n",
      "Not as Advertised\n",
      "Product arrived labeled as Jumbo Salted Peanuts...the peanuts were actually small sized unsalted. Not sure if this was an error or if the vendor intended to represent the product as \"Jumbo\".\n",
      "\n",
      "Review # 3\n",
      "\"Delight\" says it all\n",
      "This is a confection that has been around a few centuries.  It is a light, pillowy citrus gelatin with nuts - in this case Filberts. And it is cut into tiny squares and then liberally coated with powdered sugar.  And it is a tiny mouthful of heaven.  Not too chewy, and very flavorful.  I highly recommend this yummy treat.  If you are familiar with the story of C.S. Lewis' \"The Lion, The Witch, and The Wardrobe\" - this is the treat that seduces Edmund into selling out his Brother and Sisters to the Witch.\n",
      "\n",
      "Review # 4\n",
      "Cough Medicine\n",
      "If you are looking for the secret ingredient in Robitussin I believe I have found it.  I got this in addition to the Root Beer Extract I ordered (which was good) and made some cherry soda.  The flavor is very medicinal.\n",
      "\n",
      "Review # 5\n",
      "Great taffy\n",
      "Great taffy at a great price.  There was a wide assortment of yummy taffy.  Delivery was very quick.  If your a taffy lover, this is a deal.\n",
      "\n"
     ]
    }
   ],
   "source": [
    "# Inspecting some of the reviews\n",
    "for i in range(5):\n",
    "    print(\"Review #\",i+1)\n",
    "    print(reviews.Summary[i])\n",
    "    print(reviews.Text[i])\n",
    "    print()"
   ]
  },
  {
   "cell_type": "markdown",
   "metadata": {},
   "source": [
    "## 数据预处理\n",
    "\n",
    "- 全部转换成小写\n",
    "- 连词转换\n",
    "- 去停用词（只在描述中去掉）"
   ]
  },
  {
   "cell_type": "code",
   "execution_count": 9,
   "metadata": {
    "collapsed": true
   },
   "outputs": [],
   "source": [
    "\n",
    "contractions = { \n",
    "\"ain't\": \"am not\",\n",
    "\"aren't\": \"are not\",\n",
    "\"can't\": \"cannot\",\n",
    "\"can't've\": \"cannot have\",\n",
    "\"'cause\": \"because\",\n",
    "\"could've\": \"could have\",\n",
    "\"couldn't\": \"could not\",\n",
    "\"couldn't've\": \"could not have\",\n",
    "\"didn't\": \"did not\",\n",
    "\"doesn't\": \"does not\",\n",
    "\"don't\": \"do not\",\n",
    "\"hadn't\": \"had not\",\n",
    "\"hadn't've\": \"had not have\",\n",
    "\"hasn't\": \"has not\",\n",
    "\"haven't\": \"have not\",\n",
    "\"he'd\": \"he would\",\n",
    "\"he'd've\": \"he would have\",\n",
    "\"he'll\": \"he will\",\n",
    "\"he's\": \"he is\",\n",
    "\"how'd\": \"how did\",\n",
    "\"how'll\": \"how will\",\n",
    "\"how's\": \"how is\",\n",
    "\"i'd\": \"i would\",\n",
    "\"i'll\": \"i will\",\n",
    "\"i'm\": \"i am\",\n",
    "\"i've\": \"i have\",\n",
    "\"isn't\": \"is not\",\n",
    "\"it'd\": \"it would\",\n",
    "\"it'll\": \"it will\",\n",
    "\"it's\": \"it is\",\n",
    "\"let's\": \"let us\",\n",
    "\"ma'am\": \"madam\",\n",
    "\"mayn't\": \"may not\",\n",
    "\"might've\": \"might have\",\n",
    "\"mightn't\": \"might not\",\n",
    "\"must've\": \"must have\",\n",
    "\"mustn't\": \"must not\",\n",
    "\"needn't\": \"need not\",\n",
    "\"oughtn't\": \"ought not\",\n",
    "\"shan't\": \"shall not\",\n",
    "\"sha'n't\": \"shall not\",\n",
    "\"she'd\": \"she would\",\n",
    "\"she'll\": \"she will\",\n",
    "\"she's\": \"she is\",\n",
    "\"should've\": \"should have\",\n",
    "\"shouldn't\": \"should not\",\n",
    "\"that'd\": \"that would\",\n",
    "\"that's\": \"that is\",\n",
    "\"there'd\": \"there had\",\n",
    "\"there's\": \"there is\",\n",
    "\"they'd\": \"they would\",\n",
    "\"they'll\": \"they will\",\n",
    "\"they're\": \"they are\",\n",
    "\"they've\": \"they have\",\n",
    "\"wasn't\": \"was not\",\n",
    "\"we'd\": \"we would\",\n",
    "\"we'll\": \"we will\",\n",
    "\"we're\": \"we are\",\n",
    "\"we've\": \"we have\",\n",
    "\"weren't\": \"were not\",\n",
    "\"what'll\": \"what will\",\n",
    "\"what're\": \"what are\",\n",
    "\"what's\": \"what is\",\n",
    "\"what've\": \"what have\",\n",
    "\"where'd\": \"where did\",\n",
    "\"where's\": \"where is\",\n",
    "\"who'll\": \"who will\",\n",
    "\"who's\": \"who is\",\n",
    "\"won't\": \"will not\",\n",
    "\"wouldn't\": \"would not\",\n",
    "\"you'd\": \"you would\",\n",
    "\"you'll\": \"you will\",\n",
    "\"you're\": \"you are\"\n",
    "}"
   ]
  },
  {
   "cell_type": "code",
   "execution_count": 10,
   "metadata": {
    "collapsed": true
   },
   "outputs": [],
   "source": [
    "def clean_text(text, remove_stopwords = True):\n",
    "    '''Remove unwanted characters, stopwords, and format the text to create fewer nulls word embeddings'''\n",
    "    \n",
    "    # Convert words to lower case\n",
    "    text = text.lower()\n",
    "    \n",
    "    # Replace contractions with their longer forms \n",
    "    if True:\n",
    "        text = text.split()\n",
    "        new_text = []\n",
    "        for word in text:\n",
    "            if word in contractions:\n",
    "                new_text.append(contractions[word])\n",
    "            else:\n",
    "                new_text.append(word)\n",
    "        text = \" \".join(new_text)\n",
    "    \n",
    "    # Format words and remove unwanted characters\n",
    "    text = re.sub(r'https?:\\/\\/.*[\\r\\n]*', '', text, flags=re.MULTILINE)\n",
    "    text = re.sub(r'\\<a href', ' ', text)\n",
    "    text = re.sub(r'&amp;', '', text) \n",
    "    text = re.sub(r'[_\"\\-;%()|+&=*%.,!?:#$@\\[\\]/]', ' ', text)\n",
    "    text = re.sub(r'<br />', ' ', text)\n",
    "    text = re.sub(r'\\'', ' ', text)\n",
    "    \n",
    "    # Optionally, remove stop words\n",
    "    if remove_stopwords:\n",
    "        text = text.split()\n",
    "        stops = set(stopwords.words(\"english\"))\n",
    "        text = [w for w in text if not w in stops]\n",
    "        text = \" \".join(text)\n",
    "\n",
    "    return text"
   ]
  },
  {
   "cell_type": "markdown",
   "metadata": {},
   "source": [
    "We will remove the stopwords from the texts because they do not provide much use for training our model. However, we will keep them for our summaries so that they sound more like natural phrases. "
   ]
  },
  {
   "cell_type": "code",
   "execution_count": 11,
   "metadata": {
    "collapsed": false
   },
   "outputs": [
    {
     "name": "stdout",
     "output_type": "stream",
     "text": [
      "Summaries are complete.\n",
      "Texts are complete.\n"
     ]
    }
   ],
   "source": [
    "# Clean the summaries and texts\n",
    "clean_summaries = []\n",
    "for summary in reviews.Summary:\n",
    "    clean_summaries.append(clean_text(summary, remove_stopwords=False))\n",
    "print(\"Summaries are complete.\")\n",
    "\n",
    "clean_texts = []\n",
    "for text in reviews.Text:\n",
    "    clean_texts.append(clean_text(text,remove_stopwords=False))\n",
    "print(\"Texts are complete.\")"
   ]
  },
  {
   "cell_type": "code",
   "execution_count": 12,
   "metadata": {
    "collapsed": false
   },
   "outputs": [
    {
     "name": "stdout",
     "output_type": "stream",
     "text": [
      "Clean Review # 1\n",
      "good quality dog food\n",
      "i have bought several of the vitality canned dog food products and have found them all to be of good quality  the product looks more like a stew than a processed meat and it smells better  my labrador is finicky and she appreciates this product better than most \n",
      "\n",
      "Clean Review # 2\n",
      "not as advertised\n",
      "product arrived labeled as jumbo salted peanuts   the peanuts were actually small sized unsalted  not sure if this was an error or if the vendor intended to represent the product as  jumbo  \n",
      "\n",
      "Clean Review # 3\n",
      " delight  says it all\n",
      "this is a confection that has been around a few centuries  it is a light  pillowy citrus gelatin with nuts   in this case filberts  and it is cut into tiny squares and then liberally coated with powdered sugar  and it is a tiny mouthful of heaven  not too chewy  and very flavorful  i highly recommend this yummy treat  if you are familiar with the story of c s  lewis   the lion  the witch  and the wardrobe    this is the treat that seduces edmund into selling out his brother and sisters to the witch \n",
      "\n",
      "Clean Review # 4\n",
      "cough medicine\n",
      "if you are looking for the secret ingredient in robitussin i believe i have found it  i got this in addition to the root beer extract i ordered  which was good  and made some cherry soda  the flavor is very medicinal \n",
      "\n",
      "Clean Review # 5\n",
      "great taffy\n",
      "great taffy at a great price  there was a wide assortment of yummy taffy  delivery was very quick  if your a taffy lover  this is a deal \n",
      "\n"
     ]
    }
   ],
   "source": [
    "# Inspect the cleaned summaries and texts to ensure they have been cleaned well\n",
    "for i in range(5):\n",
    "    print(\"Clean Review #\",i+1)\n",
    "    print(clean_summaries[i])\n",
    "    print(clean_texts[i])\n",
    "    print()"
   ]
  },
  {
   "cell_type": "code",
   "execution_count": 13,
   "metadata": {
    "collapsed": true
   },
   "outputs": [],
   "source": [
    "def count_words(count_dict, text):\n",
    "    '''Count the number of occurrences of each word in a set of text'''\n",
    "    for sentence in text:\n",
    "        for word in sentence.split():\n",
    "            if word not in count_dict:\n",
    "                count_dict[word] = 1\n",
    "            else:\n",
    "                count_dict[word] += 1"
   ]
  },
  {
   "cell_type": "code",
   "execution_count": 14,
   "metadata": {
    "collapsed": false
   },
   "outputs": [
    {
     "name": "stdout",
     "output_type": "stream",
     "text": [
      "Size of Vocabulary: 132887\n"
     ]
    }
   ],
   "source": [
    "# Find the number of times each word was used and the size of the vocabulary\n",
    "word_counts = {}\n",
    "\n",
    "count_words(word_counts, clean_summaries)\n",
    "count_words(word_counts, clean_texts)\n",
    "            \n",
    "print(\"Size of Vocabulary:\", len(word_counts))"
   ]
  },
  {
   "cell_type": "markdown",
   "metadata": {},
   "source": [
    "# 使用下载的构建好的词向量"
   ]
  },
  {
   "cell_type": "code",
   "execution_count": 15,
   "metadata": {
    "collapsed": false
   },
   "outputs": [
    {
     "name": "stdout",
     "output_type": "stream",
     "text": [
      "Word embeddings: 418082\n"
     ]
    }
   ],
   "source": [
    "# Load Conceptnet Numberbatch's (CN) embeddings, similar to GloVe, but probably better \n",
    "# (https://github.com/commonsense/conceptnet-numberbatch)\n",
    "embeddings_index = {}\n",
    "with open('numberbatch-en-17.04b.txt', encoding='utf-8') as f:\n",
    "    for line in f:\n",
    "        values = line.split(' ')\n",
    "        word = values[0]\n",
    "        embedding = np.asarray(values[1:], dtype='float32')\n",
    "        embeddings_index[word] = embedding\n",
    "\n",
    "print('Word embeddings:', len(embeddings_index))"
   ]
  },
  {
   "cell_type": "code",
   "execution_count": 16,
   "metadata": {
    "collapsed": false
   },
   "outputs": [
    {
     "name": "stdout",
     "output_type": "stream",
     "text": [
      "Number of words missing from CN: 3866\n",
      "Percent of words that are missing from vocabulary: 2.91%\n"
     ]
    }
   ],
   "source": [
    "# Find the number of words that are missing from CN, and are used more than our threshold.\n",
    "missing_words = 0\n",
    "threshold = 20\n",
    "\n",
    "for word, count in word_counts.items():\n",
    "    if count > threshold:\n",
    "        if word not in embeddings_index:\n",
    "            missing_words += 1\n",
    "            \n",
    "missing_ratio = round(missing_words/len(word_counts),4)*100\n",
    "            \n",
    "print(\"Number of words missing from CN:\", missing_words)\n",
    "print(\"Percent of words that are missing from vocabulary: {}%\".format(missing_ratio))"
   ]
  },
  {
   "cell_type": "markdown",
   "metadata": {},
   "source": [
    "阈值设置为20，不在词向量中的且出现超过20次，那咱们就得自己做它的映射向量了"
   ]
  },
  {
   "cell_type": "code",
   "execution_count": 17,
   "metadata": {
    "collapsed": false
   },
   "outputs": [
    {
     "name": "stdout",
     "output_type": "stream",
     "text": [
      "Total number of unique words: 132887\n",
      "Number of words we will use: 59611\n",
      "Percent of words we will use: 44.86%\n"
     ]
    }
   ],
   "source": [
    "# Limit the vocab that we will use to words that appear ≥ threshold or are in GloVe\n",
    "\n",
    "#dictionary to convert words to integers\n",
    "vocab_to_int = {} \n",
    "\n",
    "value = 0\n",
    "for word, count in word_counts.items():\n",
    "    if count >= threshold or word in embeddings_index:\n",
    "        vocab_to_int[word] = value\n",
    "        value += 1\n",
    "\n",
    "# Special tokens that will be added to our vocab\n",
    "codes = [\"<UNK>\",\"<PAD>\",\"<EOS>\",\"<GO>\"]   \n",
    "\n",
    "# Add codes to vocab\n",
    "for code in codes:\n",
    "    vocab_to_int[code] = len(vocab_to_int)\n",
    "\n",
    "# Dictionary to convert integers to words\n",
    "int_to_vocab = {}\n",
    "for word, value in vocab_to_int.items():\n",
    "    int_to_vocab[value] = word\n",
    "\n",
    "usage_ratio = round(len(vocab_to_int) / len(word_counts),4)*100\n",
    "\n",
    "print(\"Total number of unique words:\", len(word_counts))\n",
    "print(\"Number of words we will use:\", len(vocab_to_int))\n",
    "print(\"Percent of words we will use: {}%\".format(usage_ratio))"
   ]
  },
  {
   "cell_type": "code",
   "execution_count": 18,
   "metadata": {
    "collapsed": false
   },
   "outputs": [
    {
     "name": "stdout",
     "output_type": "stream",
     "text": [
      "59611\n"
     ]
    }
   ],
   "source": [
    "# Need to use 300 for embedding dimensions to match CN's vectors.\n",
    "embedding_dim = 300\n",
    "nb_words = len(vocab_to_int)\n",
    "\n",
    "# Create matrix with default values of zero\n",
    "word_embedding_matrix = np.zeros((nb_words, embedding_dim), dtype=np.float32)\n",
    "for word, i in vocab_to_int.items():\n",
    "    if word in embeddings_index:\n",
    "        word_embedding_matrix[i] = embeddings_index[word]\n",
    "    else:\n",
    "        # If word not in CN, create a random embedding for it\n",
    "        new_embedding = np.array(np.random.uniform(-1.0, 1.0, embedding_dim))\n",
    "        embeddings_index[word] = new_embedding\n",
    "        word_embedding_matrix[i] = new_embedding\n",
    "\n",
    "# Check if value matches len(vocab_to_int)\n",
    "print(len(word_embedding_matrix))"
   ]
  },
  {
   "cell_type": "code",
   "execution_count": 19,
   "metadata": {
    "collapsed": true
   },
   "outputs": [],
   "source": [
    "def convert_to_ints(text, word_count, unk_count, eos=False):\n",
    "    '''Convert words in text to an integer.\n",
    "       If word is not in vocab_to_int, use UNK's integer.\n",
    "       Total the number of words and UNKs.\n",
    "       Add EOS token to the end of texts'''\n",
    "    ints = []\n",
    "    for sentence in text:\n",
    "        sentence_ints = []\n",
    "        for word in sentence.split():\n",
    "            word_count += 1\n",
    "            if word in vocab_to_int:\n",
    "                sentence_ints.append(vocab_to_int[word])\n",
    "            else:\n",
    "                sentence_ints.append(vocab_to_int[\"<UNK>\"])\n",
    "                unk_count += 1\n",
    "        if eos:\n",
    "            sentence_ints.append(vocab_to_int[\"<EOS>\"])\n",
    "        ints.append(sentence_ints)\n",
    "    return ints, word_count, unk_count"
   ]
  },
  {
   "cell_type": "code",
   "execution_count": 20,
   "metadata": {
    "collapsed": false
   },
   "outputs": [
    {
     "name": "stdout",
     "output_type": "stream",
     "text": [
      "Total number of words in headlines: 48415798\n",
      "Total number of UNKs in headlines: 192202\n",
      "Percent of words that are UNK: 0.4%\n"
     ]
    }
   ],
   "source": [
    "# Apply convert_to_ints to clean_summaries and clean_texts\n",
    "word_count = 0\n",
    "unk_count = 0\n",
    "\n",
    "int_summaries, word_count, unk_count = convert_to_ints(clean_summaries, word_count, unk_count)\n",
    "int_texts, word_count, unk_count = convert_to_ints(clean_texts, word_count, unk_count, eos=True)\n",
    "\n",
    "unk_percent = round(unk_count/word_count,4)*100\n",
    "\n",
    "print(\"Total number of words in headlines:\", word_count)\n",
    "print(\"Total number of UNKs in headlines:\", unk_count)\n",
    "print(\"Percent of words that are UNK: {}%\".format(unk_percent))"
   ]
  },
  {
   "cell_type": "code",
   "execution_count": 21,
   "metadata": {
    "collapsed": false
   },
   "outputs": [],
   "source": [
    "#int_summaries"
   ]
  },
  {
   "cell_type": "code",
   "execution_count": 22,
   "metadata": {
    "collapsed": false,
    "scrolled": true
   },
   "outputs": [],
   "source": [
    "#int_texts"
   ]
  },
  {
   "cell_type": "code",
   "execution_count": 23,
   "metadata": {
    "collapsed": true
   },
   "outputs": [],
   "source": [
    "def create_lengths(text):\n",
    "    '''Create a data frame of the sentence lengths from a text'''\n",
    "    lengths = []\n",
    "    for sentence in text:\n",
    "        lengths.append(len(sentence))\n",
    "    return pd.DataFrame(lengths, columns=['counts'])"
   ]
  },
  {
   "cell_type": "code",
   "execution_count": 24,
   "metadata": {
    "collapsed": false,
    "scrolled": true
   },
   "outputs": [
    {
     "name": "stdout",
     "output_type": "stream",
     "text": [
      "Summaries:\n",
      "              counts\n",
      "count  568411.000000\n",
      "mean        4.181624\n",
      "std         2.657872\n",
      "min         0.000000\n",
      "25%         2.000000\n",
      "50%         4.000000\n",
      "75%         5.000000\n",
      "max        48.000000\n",
      "\n",
      "Texts:\n",
      "              counts\n",
      "count  568411.000000\n",
      "mean       81.995823\n",
      "std        79.879703\n",
      "min         1.000000\n",
      "25%        35.000000\n",
      "50%        58.000000\n",
      "75%       100.000000\n",
      "max      3541.000000\n"
     ]
    }
   ],
   "source": [
    "lengths_summaries = create_lengths(int_summaries)\n",
    "lengths_texts = create_lengths(int_texts)\n",
    "\n",
    "print(\"Summaries:\")\n",
    "print(lengths_summaries.describe())\n",
    "print()\n",
    "print(\"Texts:\")\n",
    "print(lengths_texts.describe())"
   ]
  },
  {
   "cell_type": "code",
   "execution_count": 25,
   "metadata": {
    "collapsed": false
   },
   "outputs": [
    {
     "name": "stdout",
     "output_type": "stream",
     "text": [
      "164.0\n",
      "221.0\n",
      "391.0\n"
     ]
    }
   ],
   "source": [
    "# Inspect the length of texts\n",
    "print(np.percentile(lengths_texts.counts, 90))\n",
    "print(np.percentile(lengths_texts.counts, 95))\n",
    "print(np.percentile(lengths_texts.counts, 99))"
   ]
  },
  {
   "cell_type": "code",
   "execution_count": 26,
   "metadata": {
    "collapsed": false
   },
   "outputs": [
    {
     "name": "stdout",
     "output_type": "stream",
     "text": [
      "8.0\n",
      "9.0\n",
      "13.0\n"
     ]
    }
   ],
   "source": [
    "# Inspect the length of summaries\n",
    "print(np.percentile(lengths_summaries.counts, 90))\n",
    "print(np.percentile(lengths_summaries.counts, 95))\n",
    "print(np.percentile(lengths_summaries.counts, 99))"
   ]
  },
  {
   "cell_type": "code",
   "execution_count": 27,
   "metadata": {
    "collapsed": true
   },
   "outputs": [],
   "source": [
    "def unk_counter(sentence):\n",
    "    '''Counts the number of time UNK appears in a sentence.'''\n",
    "    unk_count = 0\n",
    "    for word in sentence:\n",
    "        if word == vocab_to_int[\"<UNK>\"]:\n",
    "            unk_count += 1\n",
    "    return unk_count"
   ]
  },
  {
   "cell_type": "code",
   "execution_count": 28,
   "metadata": {
    "collapsed": false,
    "scrolled": true
   },
   "outputs": [
    {
     "name": "stdout",
     "output_type": "stream",
     "text": [
      "317633\n",
      "317633\n"
     ]
    }
   ],
   "source": [
    "# Sort the summaries and texts by the length of the texts, shortest to longest\n",
    "# Limit the length of summaries and texts based on the min and max ranges.\n",
    "# Remove reviews that include too many UNKs\n",
    "\n",
    "sorted_summaries = []\n",
    "sorted_texts = []\n",
    "max_text_length = 84\n",
    "max_summary_length = 13\n",
    "min_length = 2\n",
    "unk_text_limit = 1\n",
    "unk_summary_limit = 0\n",
    "\n",
    "for length in range(min(lengths_texts.counts), max_text_length): \n",
    "    for count, words in enumerate(int_summaries):\n",
    "        if (len(int_summaries[count]) >= min_length and\n",
    "            len(int_summaries[count]) <= max_summary_length and\n",
    "            len(int_texts[count]) >= min_length and\n",
    "            unk_counter(int_summaries[count]) <= unk_summary_limit and\n",
    "            unk_counter(int_texts[count]) <= unk_text_limit and\n",
    "            length == len(int_texts[count])\n",
    "           ):\n",
    "            sorted_summaries.append(int_summaries[count])\n",
    "            sorted_texts.append(int_texts[count])\n",
    "        \n",
    "# Compare lengths to ensure they match\n",
    "print(len(sorted_summaries))\n",
    "print(len(sorted_texts))"
   ]
  },
  {
   "cell_type": "markdown",
   "metadata": {},
   "source": [
    "## Building the Model\n",
    "\n",
    "<img src=\"f1.png\" alt=\"FAO\" width=\"490\">\n",
    "\n",
    "Bidirectional RNNs(双向网络)的改进之处便是，假设当前的输出(第t步的输出)不仅仅与前面的序列有关，并且还与后面的序列有关。\n",
    "\n",
    "例如：预测一个语句中缺失的词语那么就需要根据上下文来进行预测。Bidirectional RNNs是一个相对较简单的RNNs，是由两个RNNs上下叠加在一起组成的。输出由这两个RNNs的隐藏层的状态决定的"
   ]
  },
  {
   "cell_type": "markdown",
   "metadata": {},
   "source": [
    "## Building the Model"
   ]
  },
  {
   "cell_type": "code",
   "execution_count": 29,
   "metadata": {
    "collapsed": true
   },
   "outputs": [],
   "source": [
    "def model_inputs():\n",
    "    '''Create palceholders for inputs to the model'''\n",
    "    \n",
    "    input_data = tf.placeholder(tf.int32, [None, None], name='input')\n",
    "    targets = tf.placeholder(tf.int32, [None, None], name='targets')\n",
    "    lr = tf.placeholder(tf.float32, name='learning_rate')\n",
    "    keep_prob = tf.placeholder(tf.float32, name='keep_prob')\n",
    "    summary_length = tf.placeholder(tf.int32, (None,), name='summary_length')\n",
    "    max_summary_length = tf.reduce_max(summary_length, name='max_dec_len')\n",
    "    text_length = tf.placeholder(tf.int32, (None,), name='text_length')\n",
    "\n",
    "    return input_data, targets, lr, keep_prob, summary_length, max_summary_length, text_length"
   ]
  },
  {
   "cell_type": "code",
   "execution_count": 30,
   "metadata": {
    "collapsed": true
   },
   "outputs": [],
   "source": [
    "def process_encoding_input(target_data, vocab_to_int, batch_size):\n",
    "    '''Remove the last word id from each batch and concat the <GO> to the begining of each batch'''\n",
    "    \n",
    "    ending = tf.strided_slice(target_data, [0, 0], [batch_size, -1], [1, 1])\n",
    "    dec_input = tf.concat([tf.fill([batch_size, 1], vocab_to_int['<GO>']), ending], 1)\n",
    "\n",
    "    return dec_input"
   ]
  },
  {
   "cell_type": "code",
   "execution_count": 31,
   "metadata": {
    "collapsed": false
   },
   "outputs": [],
   "source": [
    "def encoding_layer(rnn_size, sequence_length, num_layers, rnn_inputs, keep_prob):\n",
    "    '''Create the encoding layer'''\n",
    "    \n",
    "    for layer in range(num_layers):\n",
    "        with tf.variable_scope('encoder_{}'.format(layer)):\n",
    "            cell_fw = tf.contrib.rnn.LSTMCell(rnn_size,\n",
    "                                              initializer=tf.random_uniform_initializer(-0.1, 0.1, seed=2))\n",
    "            cell_fw = tf.contrib.rnn.DropoutWrapper(cell_fw, \n",
    "                                                    input_keep_prob = keep_prob)\n",
    "\n",
    "            cell_bw = tf.contrib.rnn.LSTMCell(rnn_size,\n",
    "                                              initializer=tf.random_uniform_initializer(-0.1, 0.1, seed=2))\n",
    "            cell_bw = tf.contrib.rnn.DropoutWrapper(cell_bw, \n",
    "                                                    input_keep_prob = keep_prob)\n",
    "\n",
    "            enc_output, enc_state = tf.nn.bidirectional_dynamic_rnn(cell_fw, \n",
    "                                                                    cell_bw, \n",
    "                                                                    rnn_inputs,\n",
    "                                                                    sequence_length,\n",
    "                                                                    dtype=tf.float32)\n",
    "    # Join outputs since we are using a bidirectional RNN\n",
    "    enc_output = tf.concat(enc_output,2)\n",
    "    \n",
    "    return enc_output, enc_state"
   ]
  },
  {
   "cell_type": "code",
   "execution_count": 32,
   "metadata": {
    "collapsed": true
   },
   "outputs": [],
   "source": [
    "-"
   ]
  },
  {
   "cell_type": "code",
   "execution_count": 33,
   "metadata": {
    "collapsed": true
   },
   "outputs": [],
   "source": [
    "def inference_decoding_layer(embeddings, start_token, end_token, dec_cell, initial_state, output_layer,\n",
    "                             max_summary_length, batch_size):\n",
    "    '''Create the inference logits'''\n",
    "    \n",
    "    start_tokens = tf.tile(tf.constant([start_token], dtype=tf.int32), [batch_size], name='start_tokens')\n",
    "    \n",
    "    inference_helper = tf.contrib.seq2seq.GreedyEmbeddingHelper(embeddings,\n",
    "                                                                start_tokens,\n",
    "                                                                end_token)\n",
    "                \n",
    "    inference_decoder = tf.contrib.seq2seq.BasicDecoder(dec_cell,\n",
    "                                                        inference_helper,\n",
    "                                                        initial_state,\n",
    "                                                        output_layer)\n",
    "                \n",
    "    inference_logits, _ = tf.contrib.seq2seq.dynamic_decode(inference_decoder,\n",
    "                                                            output_time_major=False,\n",
    "                                                            impute_finished=True,\n",
    "                                                            maximum_iterations=max_summary_length)\n",
    "    \n",
    "    return inference_logits"
   ]
  },
  {
   "cell_type": "code",
   "execution_count": 34,
   "metadata": {
    "collapsed": false
   },
   "outputs": [],
   "source": [
    "def decoding_layer(dec_embed_input, embeddings, enc_output, enc_state, vocab_size, text_length, summary_length, \n",
    "                   max_summary_length, rnn_size, vocab_to_int, keep_prob, batch_size, num_layers):\n",
    "    '''Create the decoding cell and attention for the training and inference decoding layers'''\n",
    "    \n",
    "    for layer in range(num_layers):\n",
    "        with tf.variable_scope('decoder_{}'.format(layer)):\n",
    "            lstm = tf.contrib.rnn.LSTMCell(rnn_size,\n",
    "                                           initializer=tf.random_uniform_initializer(-0.1, 0.1, seed=2))\n",
    "            dec_cell = tf.contrib.rnn.DropoutWrapper(lstm, \n",
    "                                                     input_keep_prob = keep_prob)\n",
    "    \n",
    "    output_layer = Dense(vocab_size,\n",
    "                         kernel_initializer = tf.truncated_normal_initializer(mean = 0.0, stddev=0.1))\n",
    "    \n",
    "    attn_mech = tf.contrib.seq2seq.BahdanauAttention(rnn_size,\n",
    "                                                  enc_output,\n",
    "                                                  text_length,\n",
    "                                                  normalize=False,\n",
    "                                                  name='BahdanauAttention')\n",
    "\n",
    "    dec_cell = tf.contrib.seq2seq.DynamicAttentionWrapper(dec_cell,\n",
    "                                                          attn_mech,\n",
    "                                                          rnn_size)\n",
    "            \n",
    "    initial_state = tf.contrib.seq2seq.DynamicAttentionWrapperState(enc_state[0],\n",
    "                                                                    _zero_state_tensors(rnn_size, \n",
    "                                                                                        batch_size, \n",
    "                                                                                        tf.float32)) \n",
    "    with tf.variable_scope(\"decode\"):\n",
    "        training_logits = training_decoding_layer(dec_embed_input, \n",
    "                                                  summary_length, \n",
    "                                                  dec_cell, \n",
    "                                                  initial_state,\n",
    "                                                  output_layer,\n",
    "                                                  vocab_size, \n",
    "                                                  max_summary_length)\n",
    "    with tf.variable_scope(\"decode\", reuse=True):\n",
    "        inference_logits = inference_decoding_layer(embeddings,  \n",
    "                                                    vocab_to_int['<GO>'], \n",
    "                                                    vocab_to_int['<EOS>'],\n",
    "                                                    dec_cell, \n",
    "                                                    initial_state, \n",
    "                                                    output_layer,\n",
    "                                                    max_summary_length,\n",
    "                                                    batch_size)\n",
    "\n",
    "    return training_logits, inference_logits"
   ]
  },
  {
   "cell_type": "code",
   "execution_count": 35,
   "metadata": {
    "collapsed": false
   },
   "outputs": [],
   "source": [
    "def seq2seq_model(input_data, target_data, keep_prob, text_length, summary_length, max_summary_length, \n",
    "                  vocab_size, rnn_size, num_layers, vocab_to_int, batch_size):\n",
    "    '''Use the previous functions to create the training and inference logits'''\n",
    "    \n",
    "    # Use Numberbatch's embeddings and the newly created ones as our embeddings\n",
    "    embeddings = word_embedding_matrix\n",
    "    \n",
    "    enc_embed_input = tf.nn.embedding_lookup(embeddings, input_data)\n",
    "    enc_output, enc_state = encoding_layer(rnn_size, text_length, num_layers, enc_embed_input, keep_prob)\n",
    "    \n",
    "    dec_input = process_encoding_input(target_data, vocab_to_int, batch_size)\n",
    "    dec_embed_input = tf.nn.embedding_lookup(embeddings, dec_input)\n",
    "    \n",
    "    training_logits, inference_logits  = decoding_layer(dec_embed_input, \n",
    "                                                        embeddings,\n",
    "                                                        enc_output,\n",
    "                                                        enc_state, \n",
    "                                                        vocab_size, \n",
    "                                                        text_length, \n",
    "                                                        summary_length, \n",
    "                                                        max_summary_length,\n",
    "                                                        rnn_size, \n",
    "                                                        vocab_to_int, \n",
    "                                                        keep_prob, \n",
    "                                                        batch_size,\n",
    "                                                        num_layers)\n",
    "    \n",
    "    return training_logits, inference_logits"
   ]
  },
  {
   "cell_type": "code",
   "execution_count": 36,
   "metadata": {
    "collapsed": true
   },
   "outputs": [],
   "source": [
    "def pad_sentence_batch(sentence_batch):\n",
    "    \"\"\"Pad sentences with <PAD> so that each sentence of a batch has the same length\"\"\"\n",
    "    max_sentence = max([len(sentence) for sentence in sentence_batch])\n",
    "    return [sentence + [vocab_to_int['<PAD>']] * (max_sentence - len(sentence)) for sentence in sentence_batch]"
   ]
  },
  {
   "cell_type": "code",
   "execution_count": 37,
   "metadata": {
    "collapsed": true
   },
   "outputs": [],
   "source": [
    "def get_batches(summaries, texts, batch_size):\n",
    "    \"\"\"Batch summaries, texts, and the lengths of their sentences together\"\"\"\n",
    "    for batch_i in range(0, len(texts)//batch_size):\n",
    "        start_i = batch_i * batch_size\n",
    "        summaries_batch = summaries[start_i:start_i + batch_size]\n",
    "        texts_batch = texts[start_i:start_i + batch_size]\n",
    "        pad_summaries_batch = np.array(pad_sentence_batch(summaries_batch))\n",
    "        pad_texts_batch = np.array(pad_sentence_batch(texts_batch))\n",
    "        \n",
    "        # Need the lengths for the _lengths parameters\n",
    "        pad_summaries_lengths = []\n",
    "        for summary in pad_summaries_batch:\n",
    "            pad_summaries_lengths.append(len(summary))\n",
    "        \n",
    "        pad_texts_lengths = []\n",
    "        for text in pad_texts_batch:\n",
    "            pad_texts_lengths.append(len(text))\n",
    "        \n",
    "        yield pad_summaries_batch, pad_texts_batch, pad_summaries_lengths, pad_texts_lengths"
   ]
  },
  {
   "cell_type": "code",
   "execution_count": 38,
   "metadata": {
    "collapsed": true
   },
   "outputs": [],
   "source": [
    "# Set the Hyperparameters\n",
    "epochs = 10\n",
    "batch_size = 64\n",
    "rnn_size = 256\n",
    "num_layers = 2\n",
    "learning_rate = 0.005\n",
    "keep_probability = 0.75"
   ]
  },
  {
   "cell_type": "code",
   "execution_count": 39,
   "metadata": {
    "collapsed": false
   },
   "outputs": [
    {
     "name": "stdout",
     "output_type": "stream",
     "text": [
      "Graph is built.\n"
     ]
    }
   ],
   "source": [
    "# Build the graph\n",
    "train_graph = tf.Graph()\n",
    "# Set the graph to default to ensure that it is ready for training\n",
    "with train_graph.as_default():\n",
    "    \n",
    "    # Load the model inputs    \n",
    "    input_data, targets, lr, keep_prob, summary_length, max_summary_length, text_length = model_inputs()\n",
    "\n",
    "    # Create the training and inference logits\n",
    "    training_logits, inference_logits = seq2seq_model(tf.reverse(input_data, [-1]),\n",
    "                                                      targets, \n",
    "                                                      keep_prob,   \n",
    "                                                      text_length,\n",
    "                                                      summary_length,\n",
    "                                                      max_summary_length,\n",
    "                                                      len(vocab_to_int)+1,\n",
    "                                                      rnn_size, \n",
    "                                                      num_layers, \n",
    "                                                      vocab_to_int,\n",
    "                                                      batch_size)\n",
    "    \n",
    "    # Create tensors for the training logits and inference logits\n",
    "    training_logits = tf.identity(training_logits.rnn_output, 'logits')\n",
    "    inference_logits = tf.identity(inference_logits.sample_id, name='predictions')\n",
    "    \n",
    "    # Create the weights for sequence_loss\n",
    "    masks = tf.sequence_mask(summary_length, max_summary_length, dtype=tf.float32, name='masks')\n",
    "\n",
    "    with tf.name_scope(\"optimization\"):\n",
    "        # Loss function\n",
    "        cost = tf.contrib.seq2seq.sequence_loss(\n",
    "            training_logits,\n",
    "            targets,\n",
    "            masks)\n",
    "\n",
    "        # Optimizer\n",
    "        optimizer = tf.train.AdamOptimizer(learning_rate)\n",
    "\n",
    "        # Gradient Clipping\n",
    "        gradients = optimizer.compute_gradients(cost)\n",
    "        capped_gradients = [(tf.clip_by_value(grad, -5., 5.), var) for grad, var in gradients if grad is not None]\n",
    "        train_op = optimizer.apply_gradients(capped_gradients)\n",
    "print(\"Graph is built.\")"
   ]
  },
  {
   "cell_type": "markdown",
   "metadata": {},
   "source": [
    "## 训练网络"
   ]
  },
  {
   "cell_type": "code",
   "execution_count": 40,
   "metadata": {
    "collapsed": false
   },
   "outputs": [
    {
     "name": "stdout",
     "output_type": "stream",
     "text": [
      "The shortest text length: 50\n",
      "The longest text length: 62\n"
     ]
    }
   ],
   "source": [
    "# Subset the data for training\n",
    "start = 200000\n",
    "end = start + 50000\n",
    "sorted_summaries_short = sorted_summaries[start:end]\n",
    "sorted_texts_short = sorted_texts[start:end]\n",
    "print(\"The shortest text length:\", len(sorted_texts_short[0]))\n",
    "print(\"The longest text length:\",len(sorted_texts_short[-1]))"
   ]
  },
  {
   "cell_type": "code",
   "execution_count": 41,
   "metadata": {
    "collapsed": false,
    "scrolled": true
   },
   "outputs": [
    {
     "name": "stdout",
     "output_type": "stream",
     "text": [
      "Epoch   1/10 Batch   20/781 - Loss:  4.373, Seconds: 67.38\n",
      "Epoch   1/10 Batch   40/781 - Loss:  2.862, Seconds: 66.59\n",
      "Epoch   1/10 Batch   60/781 - Loss:  2.800, Seconds: 56.71\n",
      "Epoch   1/10 Batch   80/781 - Loss:  2.741, Seconds: 58.57\n",
      "Epoch   1/10 Batch  100/781 - Loss:  2.836, Seconds: 57.40\n",
      "Epoch   1/10 Batch  120/781 - Loss:  2.713, Seconds: 62.07\n",
      "Epoch   1/10 Batch  140/781 - Loss:  2.730, Seconds: 70.98\n",
      "Epoch   1/10 Batch  160/781 - Loss:  2.662, Seconds: 58.72\n",
      "Epoch   1/10 Batch  180/781 - Loss:  2.581, Seconds: 62.50\n",
      "Epoch   1/10 Batch  200/781 - Loss:  2.624, Seconds: 59.96\n",
      "Epoch   1/10 Batch  220/781 - Loss:  2.468, Seconds: 50.65\n",
      "Epoch   1/10 Batch  240/781 - Loss:  2.501, Seconds: 64.58\n",
      "Average loss for this update: 2.818\n",
      "New Record!\n",
      "Epoch   1/10 Batch  260/781 - Loss:  2.714, Seconds: 66.03\n",
      "Epoch   1/10 Batch  280/781 - Loss:  2.496, Seconds: 64.10\n",
      "Epoch   1/10 Batch  300/781 - Loss:  2.508, Seconds: 65.41\n",
      "Epoch   1/10 Batch  320/781 - Loss:  2.601, Seconds: 60.48\n",
      "Epoch   1/10 Batch  340/781 - Loss:  2.351, Seconds: 69.24\n",
      "Epoch   1/10 Batch  360/781 - Loss:  2.200, Seconds: 76.37\n",
      "Epoch   1/10 Batch  380/781 - Loss:  2.575, Seconds: 48.96\n",
      "Epoch   1/10 Batch  400/781 - Loss:  2.456, Seconds: 67.24\n",
      "Epoch   1/10 Batch  420/781 - Loss:  2.289, Seconds: 56.78\n",
      "Epoch   1/10 Batch  440/781 - Loss:  2.267, Seconds: 65.64\n",
      "Epoch   1/10 Batch  460/781 - Loss:  2.363, Seconds: 71.81\n",
      "Epoch   1/10 Batch  480/781 - Loss:  2.146, Seconds: 61.22\n",
      "Epoch   1/10 Batch  500/781 - Loss:  2.037, Seconds: 57.11\n",
      "Average loss for this update: 2.358\n",
      "New Record!\n",
      "Epoch   1/10 Batch  520/781 - Loss:  2.380, Seconds: 60.88\n",
      "Epoch   1/10 Batch  540/781 - Loss:  2.188, Seconds: 57.10\n",
      "Epoch   1/10 Batch  560/781 - Loss:  2.047, Seconds: 65.67\n",
      "Epoch   1/10 Batch  580/781 - Loss:  2.369, Seconds: 58.61\n",
      "Epoch   1/10 Batch  600/781 - Loss:  2.162, Seconds: 70.04\n",
      "Epoch   1/10 Batch  620/781 - Loss:  2.130, Seconds: 70.45\n",
      "Epoch   1/10 Batch  640/781 - Loss:  2.170, Seconds: 58.03\n",
      "Epoch   1/10 Batch  660/781 - Loss:  2.196, Seconds: 53.03\n",
      "Epoch   1/10 Batch  680/781 - Loss:  2.042, Seconds: 70.01\n",
      "Epoch   1/10 Batch  700/781 - Loss:  2.149, Seconds: 70.35\n",
      "Epoch   1/10 Batch  720/781 - Loss:  2.251, Seconds: 72.15\n",
      "Epoch   1/10 Batch  740/781 - Loss:  2.096, Seconds: 66.44\n",
      "Epoch   1/10 Batch  760/781 - Loss:  2.090, Seconds: 70.53\n",
      "Average loss for this update: 2.162\n",
      "New Record!\n",
      "Epoch   1/10 Batch  780/781 - Loss:  2.168, Seconds: 67.27\n",
      "Epoch   2/10 Batch   20/781 - Loss:  2.151, Seconds: 63.39\n",
      "Epoch   2/10 Batch   40/781 - Loss:  2.045, Seconds: 63.24\n",
      "Epoch   2/10 Batch   60/781 - Loss:  2.001, Seconds: 57.34\n",
      "Epoch   2/10 Batch   80/781 - Loss:  1.876, Seconds: 55.66\n",
      "Epoch   2/10 Batch  100/781 - Loss:  2.097, Seconds: 54.70\n",
      "Epoch   2/10 Batch  120/781 - Loss:  2.007, Seconds: 59.09\n",
      "Epoch   2/10 Batch  140/781 - Loss:  1.966, Seconds: 68.55\n",
      "Epoch   2/10 Batch  160/781 - Loss:  1.906, Seconds: 55.15\n",
      "Epoch   2/10 Batch  180/781 - Loss:  1.977, Seconds: 59.68\n",
      "Epoch   2/10 Batch  200/781 - Loss:  1.992, Seconds: 55.06\n",
      "Epoch   2/10 Batch  220/781 - Loss:  1.820, Seconds: 50.84\n",
      "Epoch   2/10 Batch  240/781 - Loss:  1.921, Seconds: 64.27\n",
      "Average loss for this update: 1.994\n",
      "New Record!\n",
      "Epoch   2/10 Batch  260/781 - Loss:  2.149, Seconds: 64.05\n",
      "Epoch   2/10 Batch  280/781 - Loss:  1.940, Seconds: 61.08\n",
      "Epoch   2/10 Batch  300/781 - Loss:  1.951, Seconds: 60.33\n",
      "Epoch   2/10 Batch  320/781 - Loss:  2.094, Seconds: 60.14\n",
      "Epoch   2/10 Batch  340/781 - Loss:  1.867, Seconds: 68.58\n",
      "Epoch   2/10 Batch  360/781 - Loss:  1.691, Seconds: 68.98\n",
      "Epoch   2/10 Batch  380/781 - Loss:  2.062, Seconds: 47.98\n",
      "Epoch   2/10 Batch  400/781 - Loss:  1.973, Seconds: 64.90\n",
      "Epoch   2/10 Batch  420/781 - Loss:  1.800, Seconds: 55.94\n",
      "Epoch   2/10 Batch  440/781 - Loss:  1.795, Seconds: 65.08\n",
      "Epoch   2/10 Batch  460/781 - Loss:  1.917, Seconds: 68.75\n",
      "Epoch   2/10 Batch  480/781 - Loss:  1.715, Seconds: 60.58\n",
      "Epoch   2/10 Batch  500/781 - Loss:  1.635, Seconds: 56.65\n",
      "Average loss for this update: 1.876\n",
      "New Record!\n",
      "Epoch   2/10 Batch  520/781 - Loss:  1.967, Seconds: 60.96\n",
      "Epoch   2/10 Batch  540/781 - Loss:  1.729, Seconds: 56.59\n",
      "Epoch   2/10 Batch  560/781 - Loss:  1.655, Seconds: 65.56\n",
      "Epoch   2/10 Batch  580/781 - Loss:  1.980, Seconds: 57.40\n",
      "Epoch   2/10 Batch  600/781 - Loss:  1.814, Seconds: 69.92\n",
      "Epoch   2/10 Batch  620/781 - Loss:  1.749, Seconds: 69.97\n",
      "Epoch   2/10 Batch  640/781 - Loss:  1.807, Seconds: 56.82\n",
      "Epoch   2/10 Batch  660/781 - Loss:  1.815, Seconds: 52.55\n",
      "Epoch   2/10 Batch  680/781 - Loss:  1.679, Seconds: 70.07\n",
      "Epoch   2/10 Batch  700/781 - Loss:  1.774, Seconds: 70.02\n",
      "Epoch   2/10 Batch  720/781 - Loss:  1.891, Seconds: 70.46\n",
      "Epoch   2/10 Batch  740/781 - Loss:  1.731, Seconds: 67.12\n",
      "Epoch   2/10 Batch  760/781 - Loss:  1.759, Seconds: 70.69\n",
      "Average loss for this update: 1.79\n",
      "New Record!\n",
      "Epoch   2/10 Batch  780/781 - Loss:  1.850, Seconds: 65.88\n",
      "Epoch   3/10 Batch   20/781 - Loss:  1.919, Seconds: 63.39\n",
      "Epoch   3/10 Batch   40/781 - Loss:  1.777, Seconds: 64.26\n",
      "Epoch   3/10 Batch   60/781 - Loss:  1.706, Seconds: 56.73\n",
      "Epoch   3/10 Batch   80/781 - Loss:  1.580, Seconds: 57.99\n",
      "Epoch   3/10 Batch  100/781 - Loss:  1.802, Seconds: 57.09\n",
      "Epoch   3/10 Batch  120/781 - Loss:  1.724, Seconds: 59.93\n",
      "Epoch   3/10 Batch  140/781 - Loss:  1.651, Seconds: 71.37\n",
      "Epoch   3/10 Batch  160/781 - Loss:  1.588, Seconds: 55.84\n",
      "Epoch   3/10 Batch  180/781 - Loss:  1.696, Seconds: 60.67\n",
      "Epoch   3/10 Batch  200/781 - Loss:  1.679, Seconds: 56.22\n",
      "Epoch   3/10 Batch  220/781 - Loss:  1.547, Seconds: 52.94\n",
      "Epoch   3/10 Batch  240/781 - Loss:  1.650, Seconds: 66.38\n",
      "Average loss for this update: 1.708\n",
      "New Record!\n",
      "Epoch   3/10 Batch  260/781 - Loss:  1.884, Seconds: 66.17\n",
      "Epoch   3/10 Batch  280/781 - Loss:  1.679, Seconds: 64.62\n",
      "Epoch   3/10 Batch  300/781 - Loss:  1.681, Seconds: 60.56\n",
      "Epoch   3/10 Batch  320/781 - Loss:  1.832, Seconds: 61.10\n",
      "Epoch   3/10 Batch  340/781 - Loss:  1.625, Seconds: 70.14\n",
      "Epoch   3/10 Batch  360/781 - Loss:  1.448, Seconds: 70.79\n",
      "Epoch   3/10 Batch  380/781 - Loss:  1.796, Seconds: 48.68\n",
      "Epoch   3/10 Batch  400/781 - Loss:  1.724, Seconds: 66.28\n",
      "Epoch   3/10 Batch  420/781 - Loss:  1.553, Seconds: 57.22\n",
      "Epoch   3/10 Batch  440/781 - Loss:  1.559, Seconds: 67.84\n",
      "Epoch   3/10 Batch  460/781 - Loss:  1.661, Seconds: 73.38\n",
      "Epoch   3/10 Batch  480/781 - Loss:  1.501, Seconds: 63.11\n",
      "Epoch   3/10 Batch  500/781 - Loss:  1.426, Seconds: 58.55\n",
      "Average loss for this update: 1.631\n",
      "New Record!\n",
      "Epoch   3/10 Batch  520/781 - Loss:  1.725, Seconds: 64.74\n",
      "Epoch   3/10 Batch  540/781 - Loss:  1.470, Seconds: 60.30\n",
      "Epoch   3/10 Batch  560/781 - Loss:  1.447, Seconds: 68.32\n",
      "Epoch   3/10 Batch  580/781 - Loss:  1.747, Seconds: 59.74\n",
      "Epoch   3/10 Batch  600/781 - Loss:  1.606, Seconds: 72.69\n",
      "Epoch   3/10 Batch  620/781 - Loss:  1.523, Seconds: 72.15\n",
      "Epoch   3/10 Batch  640/781 - Loss:  1.597, Seconds: 59.06\n",
      "Epoch   3/10 Batch  660/781 - Loss:  1.588, Seconds: 56.22\n",
      "Epoch   3/10 Batch  680/781 - Loss:  1.479, Seconds: 74.43\n",
      "Epoch   3/10 Batch  700/781 - Loss:  1.567, Seconds: 76.14\n",
      "Epoch   3/10 Batch  720/781 - Loss:  1.677, Seconds: 72.95\n",
      "Epoch   3/10 Batch  740/781 - Loss:  1.515, Seconds: 68.35\n",
      "Epoch   3/10 Batch  760/781 - Loss:  1.563, Seconds: 73.08\n",
      "Average loss for this update: 1.575\n",
      "New Record!\n",
      "Epoch   3/10 Batch  780/781 - Loss:  1.674, Seconds: 68.74\n",
      "Epoch   4/10 Batch   20/781 - Loss:  1.771, Seconds: 65.46\n",
      "Epoch   4/10 Batch   40/781 - Loss:  1.599, Seconds: 72.38\n",
      "Epoch   4/10 Batch   60/781 - Loss:  1.515, Seconds: 58.97\n",
      "Epoch   4/10 Batch   80/781 - Loss:  1.398, Seconds: 67.50\n",
      "Epoch   4/10 Batch  100/781 - Loss:  1.613, Seconds: 59.30\n",
      "Epoch   4/10 Batch  120/781 - Loss:  1.538, Seconds: 63.76\n",
      "Epoch   4/10 Batch  140/781 - Loss:  1.461, Seconds: 72.44\n",
      "Epoch   4/10 Batch  160/781 - Loss:  1.423, Seconds: 60.21\n",
      "Epoch   4/10 Batch  180/781 - Loss:  1.537, Seconds: 60.88\n",
      "Epoch   4/10 Batch  200/781 - Loss:  1.504, Seconds: 56.99\n",
      "Epoch   4/10 Batch  220/781 - Loss:  1.388, Seconds: 51.80\n",
      "Epoch   4/10 Batch  240/781 - Loss:  1.485, Seconds: 64.92\n",
      "Average loss for this update: 1.534\n",
      "New Record!\n",
      "Epoch   4/10 Batch  260/781 - Loss:  1.697, Seconds: 65.09\n",
      "Epoch   4/10 Batch  280/781 - Loss:  1.510, Seconds: 61.53\n",
      "Epoch   4/10 Batch  300/781 - Loss:  1.519, Seconds: 60.86\n",
      "Epoch   4/10 Batch  320/781 - Loss:  1.635, Seconds: 61.09\n",
      "Epoch   4/10 Batch  340/781 - Loss:  1.466, Seconds: 69.90\n",
      "Epoch   4/10 Batch  360/781 - Loss:  1.292, Seconds: 70.35\n",
      "Epoch   4/10 Batch  380/781 - Loss:  1.612, Seconds: 49.03\n",
      "Epoch   4/10 Batch  400/781 - Loss:  1.556, Seconds: 65.40\n",
      "Epoch   4/10 Batch  420/781 - Loss:  1.397, Seconds: 57.60\n",
      "Epoch   4/10 Batch  440/781 - Loss:  1.391, Seconds: 66.38\n",
      "Epoch   4/10 Batch  460/781 - Loss:  1.500, Seconds: 70.03\n",
      "Epoch   4/10 Batch  480/781 - Loss:  1.362, Seconds: 61.89\n",
      "Epoch   4/10 Batch  500/781 - Loss:  1.294, Seconds: 57.77\n",
      "Average loss for this update: 1.467\n",
      "New Record!\n",
      "Epoch   4/10 Batch  520/781 - Loss:  1.552, Seconds: 61.80\n",
      "Epoch   4/10 Batch  540/781 - Loss:  1.310, Seconds: 57.41\n",
      "Epoch   4/10 Batch  560/781 - Loss:  1.318, Seconds: 66.37\n",
      "Epoch   4/10 Batch  580/781 - Loss:  1.577, Seconds: 57.87\n",
      "Epoch   4/10 Batch  600/781 - Loss:  1.473, Seconds: 70.72\n",
      "Epoch   4/10 Batch  620/781 - Loss:  1.376, Seconds: 70.63\n",
      "Epoch   4/10 Batch  640/781 - Loss:  1.447, Seconds: 58.14\n",
      "Epoch   4/10 Batch  660/781 - Loss:  1.433, Seconds: 53.33\n",
      "Epoch   4/10 Batch  680/781 - Loss:  1.352, Seconds: 71.71\n",
      "Epoch   4/10 Batch  700/781 - Loss:  1.433, Seconds: 71.45\n",
      "Epoch   4/10 Batch  720/781 - Loss:  1.524, Seconds: 71.96\n",
      "Epoch   4/10 Batch  740/781 - Loss:  1.398, Seconds: 67.48\n",
      "Epoch   4/10 Batch  760/781 - Loss:  1.421, Seconds: 71.43\n",
      "Average loss for this update: 1.432\n",
      "New Record!\n",
      "Epoch   4/10 Batch  780/781 - Loss:  1.536, Seconds: 67.35\n",
      "Epoch   5/10 Batch   20/781 - Loss:  1.658, Seconds: 64.21\n",
      "Epoch   5/10 Batch   40/781 - Loss:  1.458, Seconds: 64.14\n",
      "Epoch   5/10 Batch   60/781 - Loss:  1.379, Seconds: 56.33\n",
      "Epoch   5/10 Batch   80/781 - Loss:  1.252, Seconds: 55.27\n",
      "Epoch   5/10 Batch  100/781 - Loss:  1.476, Seconds: 56.89\n",
      "Epoch   5/10 Batch  120/781 - Loss:  1.404, Seconds: 60.07\n",
      "Epoch   5/10 Batch  140/781 - Loss:  1.318, Seconds: 68.85\n",
      "Epoch   5/10 Batch  160/781 - Loss:  1.298, Seconds: 56.07\n",
      "Epoch   5/10 Batch  180/781 - Loss:  1.416, Seconds: 60.47\n",
      "Epoch   5/10 Batch  200/781 - Loss:  1.367, Seconds: 55.69\n",
      "Epoch   5/10 Batch  220/781 - Loss:  1.255, Seconds: 51.64\n",
      "Epoch   5/10 Batch  240/781 - Loss:  1.354, Seconds: 65.34\n",
      "Average loss for this update: 1.399\n",
      "New Record!\n",
      "Epoch   5/10 Batch  260/781 - Loss:  1.544, Seconds: 64.70\n",
      "Epoch   5/10 Batch  280/781 - Loss:  1.385, Seconds: 60.72\n",
      "Epoch   5/10 Batch  300/781 - Loss:  1.388, Seconds: 61.05\n",
      "Epoch   5/10 Batch  320/781 - Loss:  1.494, Seconds: 61.28\n",
      "Epoch   5/10 Batch  340/781 - Loss:  1.331, Seconds: 69.53\n",
      "Epoch   5/10 Batch  360/781 - Loss:  1.169, Seconds: 69.98\n",
      "Epoch   5/10 Batch  380/781 - Loss:  1.461, Seconds: 48.39\n",
      "Epoch   5/10 Batch  400/781 - Loss:  1.421, Seconds: 66.16\n",
      "Epoch   5/10 Batch  420/781 - Loss:  1.282, Seconds: 58.37\n",
      "Epoch   5/10 Batch  440/781 - Loss:  1.270, Seconds: 66.27\n",
      "Epoch   5/10 Batch  460/781 - Loss:  1.386, Seconds: 71.28\n",
      "Epoch   5/10 Batch  480/781 - Loss:  1.250, Seconds: 62.04\n",
      "Epoch   5/10 Batch  500/781 - Loss:  1.195, Seconds: 57.28\n",
      "Average loss for this update: 1.341\n",
      "New Record!\n",
      "Epoch   5/10 Batch  520/781 - Loss:  1.419, Seconds: 61.84\n",
      "Epoch   5/10 Batch  540/781 - Loss:  1.209, Seconds: 57.67\n",
      "Epoch   5/10 Batch  560/781 - Loss:  1.225, Seconds: 66.52\n",
      "Epoch   5/10 Batch  580/781 - Loss:  1.451, Seconds: 57.95\n",
      "Epoch   5/10 Batch  600/781 - Loss:  1.350, Seconds: 70.82\n",
      "Epoch   5/10 Batch  620/781 - Loss:  1.265, Seconds: 71.59\n",
      "Epoch   5/10 Batch  640/781 - Loss:  1.325, Seconds: 58.06\n",
      "Epoch   5/10 Batch  660/781 - Loss:  1.320, Seconds: 53.50\n",
      "Epoch   5/10 Batch  680/781 - Loss:  1.243, Seconds: 71.62\n",
      "Epoch   5/10 Batch  700/781 - Loss:  1.304, Seconds: 71.40\n",
      "Epoch   5/10 Batch  720/781 - Loss:  1.425, Seconds: 71.73\n",
      "Epoch   5/10 Batch  740/781 - Loss:  1.284, Seconds: 67.81\n",
      "Epoch   5/10 Batch  760/781 - Loss:  1.315, Seconds: 72.18\n",
      "Average loss for this update: 1.32\n",
      "New Record!\n",
      "Epoch   5/10 Batch  780/781 - Loss:  1.422, Seconds: 67.39\n",
      "Epoch   6/10 Batch   20/781 - Loss:  1.554, Seconds: 64.19\n",
      "Epoch   6/10 Batch   40/781 - Loss:  1.363, Seconds: 63.98\n",
      "Epoch   6/10 Batch   60/781 - Loss:  1.284, Seconds: 56.19\n",
      "Epoch   6/10 Batch   80/781 - Loss:  1.150, Seconds: 55.48\n",
      "Epoch   6/10 Batch  100/781 - Loss:  1.345, Seconds: 55.61\n",
      "Epoch   6/10 Batch  120/781 - Loss:  1.295, Seconds: 61.39\n",
      "Epoch   6/10 Batch  140/781 - Loss:  1.231, Seconds: 68.77\n",
      "Epoch   6/10 Batch  160/781 - Loss:  1.195, Seconds: 56.35\n",
      "Epoch   6/10 Batch  180/781 - Loss:  1.308, Seconds: 60.77\n",
      "Epoch   6/10 Batch  200/781 - Loss:  1.279, Seconds: 56.10\n",
      "Epoch   6/10 Batch  220/781 - Loss:  1.164, Seconds: 51.81\n",
      "Epoch   6/10 Batch  240/781 - Loss:  1.258, Seconds: 65.85\n",
      "Average loss for this update: 1.298\n",
      "New Record!\n",
      "Epoch   6/10 Batch  260/781 - Loss:  1.438, Seconds: 64.53\n",
      "Epoch   6/10 Batch  280/781 - Loss:  1.287, Seconds: 60.92\n",
      "Epoch   6/10 Batch  300/781 - Loss:  1.284, Seconds: 60.79\n",
      "Epoch   6/10 Batch  320/781 - Loss:  1.386, Seconds: 61.01\n",
      "Epoch   6/10 Batch  340/781 - Loss:  1.240, Seconds: 70.20\n",
      "Epoch   6/10 Batch  360/781 - Loss:  1.087, Seconds: 70.06\n",
      "Epoch   6/10 Batch  380/781 - Loss:  1.347, Seconds: 47.96\n",
      "Epoch   6/10 Batch  400/781 - Loss:  1.319, Seconds: 65.73\n",
      "Epoch   6/10 Batch  420/781 - Loss:  1.195, Seconds: 56.99\n",
      "Epoch   6/10 Batch  440/781 - Loss:  1.185, Seconds: 66.23\n",
      "Epoch   6/10 Batch  460/781 - Loss:  1.281, Seconds: 70.40\n",
      "Epoch   6/10 Batch  480/781 - Loss:  1.162, Seconds: 61.40\n",
      "Epoch   6/10 Batch  500/781 - Loss:  1.130, Seconds: 56.83\n",
      "Average loss for this update: 1.248\n",
      "New Record!\n",
      "Epoch   6/10 Batch  520/781 - Loss:  1.331, Seconds: 61.49\n",
      "Epoch   6/10 Batch  540/781 - Loss:  1.135, Seconds: 57.50\n",
      "Epoch   6/10 Batch  560/781 - Loss:  1.155, Seconds: 65.85\n",
      "Epoch   6/10 Batch  580/781 - Loss:  1.349, Seconds: 57.66\n",
      "Epoch   6/10 Batch  600/781 - Loss:  1.267, Seconds: 71.28\n",
      "Epoch   6/10 Batch  620/781 - Loss:  1.181, Seconds: 71.15\n",
      "Epoch   6/10 Batch  640/781 - Loss:  1.245, Seconds: 57.84\n",
      "Epoch   6/10 Batch  660/781 - Loss:  1.223, Seconds: 53.19\n",
      "Epoch   6/10 Batch  680/781 - Loss:  1.168, Seconds: 71.71\n",
      "Epoch   6/10 Batch  700/781 - Loss:  1.222, Seconds: 71.19\n",
      "Epoch   6/10 Batch  720/781 - Loss:  1.336, Seconds: 72.01\n",
      "Epoch   6/10 Batch  740/781 - Loss:  1.205, Seconds: 67.92\n",
      "Epoch   6/10 Batch  760/781 - Loss:  1.234, Seconds: 71.40\n",
      "Average loss for this update: 1.237\n",
      "New Record!\n",
      "Epoch   6/10 Batch  780/781 - Loss:  1.348, Seconds: 67.50\n",
      "Epoch   7/10 Batch   20/781 - Loss:  1.452, Seconds: 63.66\n",
      "Epoch   7/10 Batch   40/781 - Loss:  1.249, Seconds: 64.36\n",
      "Epoch   7/10 Batch   60/781 - Loss:  1.180, Seconds: 55.95\n",
      "Epoch   7/10 Batch   80/781 - Loss:  1.073, Seconds: 55.23\n",
      "Epoch   7/10 Batch  100/781 - Loss:  1.245, Seconds: 56.18\n",
      "Epoch   7/10 Batch  120/781 - Loss:  1.204, Seconds: 60.41\n",
      "Epoch   7/10 Batch  140/781 - Loss:  1.143, Seconds: 68.78\n",
      "Epoch   7/10 Batch  160/781 - Loss:  1.103, Seconds: 56.04\n",
      "Epoch   7/10 Batch  180/781 - Loss:  1.231, Seconds: 60.64\n",
      "Epoch   7/10 Batch  200/781 - Loss:  1.192, Seconds: 56.21\n",
      "Epoch   7/10 Batch  220/781 - Loss:  1.092, Seconds: 52.28\n",
      "Epoch   7/10 Batch  240/781 - Loss:  1.170, Seconds: 65.36\n",
      "Average loss for this update: 1.206\n",
      "New Record!\n",
      "Epoch   7/10 Batch  260/781 - Loss:  1.345, Seconds: 65.19\n",
      "Epoch   7/10 Batch  280/781 - Loss:  1.201, Seconds: 61.13\n",
      "Epoch   7/10 Batch  300/781 - Loss:  1.216, Seconds: 62.00\n",
      "Epoch   7/10 Batch  320/781 - Loss:  1.298, Seconds: 61.18\n",
      "Epoch   7/10 Batch  340/781 - Loss:  1.170, Seconds: 69.78\n",
      "Epoch   7/10 Batch  360/781 - Loss:  1.009, Seconds: 70.11\n",
      "Epoch   7/10 Batch  380/781 - Loss:  1.249, Seconds: 47.82\n",
      "Epoch   7/10 Batch  400/781 - Loss:  1.243, Seconds: 66.93\n",
      "Epoch   7/10 Batch  420/781 - Loss:  1.117, Seconds: 57.09\n",
      "Epoch   7/10 Batch  440/781 - Loss:  1.117, Seconds: 65.47\n",
      "Epoch   7/10 Batch  460/781 - Loss:  1.199, Seconds: 70.70\n",
      "Epoch   7/10 Batch  480/781 - Loss:  1.098, Seconds: 61.71\n",
      "Epoch   7/10 Batch  500/781 - Loss:  1.061, Seconds: 57.45\n",
      "Average loss for this update: 1.17\n",
      "New Record!\n",
      "Epoch   7/10 Batch  520/781 - Loss:  1.241, Seconds: 61.94\n",
      "Epoch   7/10 Batch  540/781 - Loss:  1.045, Seconds: 57.20\n",
      "Epoch   7/10 Batch  560/781 - Loss:  1.073, Seconds: 66.50\n",
      "Epoch   7/10 Batch  580/781 - Loss:  1.272, Seconds: 57.15\n",
      "Epoch   7/10 Batch  600/781 - Loss:  1.194, Seconds: 71.09\n",
      "Epoch   7/10 Batch  620/781 - Loss:  1.103, Seconds: 70.70\n",
      "Epoch   7/10 Batch  640/781 - Loss:  1.172, Seconds: 58.13\n",
      "Epoch   7/10 Batch  660/781 - Loss:  1.165, Seconds: 53.98\n",
      "Epoch   7/10 Batch  680/781 - Loss:  1.107, Seconds: 71.15\n",
      "Epoch   7/10 Batch  700/781 - Loss:  1.151, Seconds: 71.54\n",
      "Epoch   7/10 Batch  720/781 - Loss:  1.247, Seconds: 71.48\n",
      "Epoch   7/10 Batch  740/781 - Loss:  1.125, Seconds: 66.62\n",
      "Epoch   7/10 Batch  760/781 - Loss:  1.167, Seconds: 72.52\n",
      "Average loss for this update: 1.162\n",
      "New Record!\n",
      "Epoch   7/10 Batch  780/781 - Loss:  1.280, Seconds: 67.28\n",
      "Epoch   8/10 Batch   20/781 - Loss:  1.381, Seconds: 64.33\n",
      "Epoch   8/10 Batch   40/781 - Loss:  1.186, Seconds: 63.98\n",
      "Epoch   8/10 Batch   60/781 - Loss:  1.104, Seconds: 56.31\n",
      "Epoch   8/10 Batch   80/781 - Loss:  1.003, Seconds: 55.45\n",
      "Epoch   8/10 Batch  100/781 - Loss:  1.173, Seconds: 55.91\n",
      "Epoch   8/10 Batch  120/781 - Loss:  1.130, Seconds: 59.96\n",
      "Epoch   8/10 Batch  140/781 - Loss:  1.065, Seconds: 69.62\n",
      "Epoch   8/10 Batch  160/781 - Loss:  1.028, Seconds: 55.95\n",
      "Epoch   8/10 Batch  180/781 - Loss:  1.162, Seconds: 60.15\n",
      "Epoch   8/10 Batch  200/781 - Loss:  1.110, Seconds: 56.25\n",
      "Epoch   8/10 Batch  220/781 - Loss:  1.017, Seconds: 52.31\n",
      "Epoch   8/10 Batch  240/781 - Loss:  1.095, Seconds: 64.94\n",
      "Average loss for this update: 1.132\n",
      "New Record!\n",
      "Epoch   8/10 Batch  260/781 - Loss:  1.256, Seconds: 65.21\n",
      "Epoch   8/10 Batch  280/781 - Loss:  1.145, Seconds: 61.53\n",
      "Epoch   8/10 Batch  300/781 - Loss:  1.139, Seconds: 60.94\n",
      "Epoch   8/10 Batch  320/781 - Loss:  1.213, Seconds: 61.46\n",
      "Epoch   8/10 Batch  340/781 - Loss:  1.099, Seconds: 70.14\n",
      "Epoch   8/10 Batch  360/781 - Loss:  0.943, Seconds: 70.48\n",
      "Epoch   8/10 Batch  380/781 - Loss:  1.154, Seconds: 48.01\n",
      "Epoch   8/10 Batch  400/781 - Loss:  1.161, Seconds: 65.65\n",
      "Epoch   8/10 Batch  420/781 - Loss:  1.044, Seconds: 57.06\n",
      "Epoch   8/10 Batch  440/781 - Loss:  1.035, Seconds: 65.98\n",
      "Epoch   8/10 Batch  460/781 - Loss:  1.127, Seconds: 70.11\n",
      "Epoch   8/10 Batch  480/781 - Loss:  1.035, Seconds: 61.77\n",
      "Epoch   8/10 Batch  500/781 - Loss:  0.999, Seconds: 57.40\n",
      "Average loss for this update: 1.096\n",
      "New Record!\n",
      "Epoch   8/10 Batch  520/781 - Loss:  1.158, Seconds: 62.03\n",
      "Epoch   8/10 Batch  540/781 - Loss:  0.981, Seconds: 57.20\n",
      "Epoch   8/10 Batch  560/781 - Loss:  1.021, Seconds: 66.54\n",
      "Epoch   8/10 Batch  580/781 - Loss:  1.199, Seconds: 57.99\n",
      "Epoch   8/10 Batch  600/781 - Loss:  1.128, Seconds: 71.22\n",
      "Epoch   8/10 Batch  620/781 - Loss:  1.048, Seconds: 70.89\n",
      "Epoch   8/10 Batch  640/781 - Loss:  1.111, Seconds: 58.19\n",
      "Epoch   8/10 Batch  660/781 - Loss:  1.090, Seconds: 53.87\n",
      "Epoch   8/10 Batch  680/781 - Loss:  1.049, Seconds: 70.64\n",
      "Epoch   8/10 Batch  700/781 - Loss:  1.082, Seconds: 71.56\n",
      "Epoch   8/10 Batch  720/781 - Loss:  1.179, Seconds: 72.51\n",
      "Epoch   8/10 Batch  740/781 - Loss:  1.067, Seconds: 67.86\n",
      "Epoch   8/10 Batch  760/781 - Loss:  1.108, Seconds: 72.49\n",
      "Average loss for this update: 1.098\n",
      "No Improvement.\n",
      "Epoch   8/10 Batch  780/781 - Loss:  1.213, Seconds: 68.00\n",
      "Epoch   9/10 Batch   20/781 - Loss:  1.303, Seconds: 64.73\n",
      "Epoch   9/10 Batch   40/781 - Loss:  1.106, Seconds: 64.17\n",
      "Epoch   9/10 Batch   60/781 - Loss:  1.044, Seconds: 55.62\n",
      "Epoch   9/10 Batch   80/781 - Loss:  0.943, Seconds: 54.95\n",
      "Epoch   9/10 Batch  100/781 - Loss:  1.109, Seconds: 56.13\n",
      "Epoch   9/10 Batch  120/781 - Loss:  1.080, Seconds: 60.06\n",
      "Epoch   9/10 Batch  140/781 - Loss:  1.015, Seconds: 68.86\n",
      "Epoch   9/10 Batch  160/781 - Loss:  0.983, Seconds: 56.09\n",
      "Epoch   9/10 Batch  180/781 - Loss:  1.092, Seconds: 60.50\n",
      "Epoch   9/10 Batch  200/781 - Loss:  1.054, Seconds: 55.60\n",
      "Epoch   9/10 Batch  220/781 - Loss:  0.980, Seconds: 51.89\n",
      "Epoch   9/10 Batch  240/781 - Loss:  1.032, Seconds: 65.28\n",
      "Average loss for this update: 1.072\n",
      "New Record!\n",
      "Epoch   9/10 Batch  260/781 - Loss:  1.188, Seconds: 64.80\n",
      "Epoch   9/10 Batch  280/781 - Loss:  1.089, Seconds: 61.15\n",
      "Epoch   9/10 Batch  300/781 - Loss:  1.087, Seconds: 61.38\n",
      "Epoch   9/10 Batch  320/781 - Loss:  1.155, Seconds: 60.71\n",
      "Epoch   9/10 Batch  340/781 - Loss:  1.047, Seconds: 69.79\n",
      "Epoch   9/10 Batch  360/781 - Loss:  0.911, Seconds: 69.33\n",
      "Epoch   9/10 Batch  380/781 - Loss:  1.107, Seconds: 47.98\n",
      "Epoch   9/10 Batch  400/781 - Loss:  1.110, Seconds: 66.62\n",
      "Epoch   9/10 Batch  420/781 - Loss:  0.997, Seconds: 56.99\n",
      "Epoch   9/10 Batch  440/781 - Loss:  0.994, Seconds: 67.21\n",
      "Epoch   9/10 Batch  460/781 - Loss:  1.085, Seconds: 70.43\n",
      "Epoch   9/10 Batch  480/781 - Loss:  0.985, Seconds: 62.01\n",
      "Epoch   9/10 Batch  500/781 - Loss:  0.942, Seconds: 57.28\n",
      "Average loss for this update: 1.046\n",
      "New Record!\n",
      "Epoch   9/10 Batch  520/781 - Loss:  1.097, Seconds: 61.91\n",
      "Epoch   9/10 Batch  540/781 - Loss:  0.929, Seconds: 57.65\n",
      "Epoch   9/10 Batch  560/781 - Loss:  0.983, Seconds: 66.60\n",
      "Epoch   9/10 Batch  580/781 - Loss:  1.144, Seconds: 57.95\n",
      "Epoch   9/10 Batch  600/781 - Loss:  1.076, Seconds: 70.91\n",
      "Epoch   9/10 Batch  620/781 - Loss:  0.996, Seconds: 75.13\n",
      "Epoch   9/10 Batch  640/781 - Loss:  1.065, Seconds: 58.36\n",
      "Epoch   9/10 Batch  660/781 - Loss:  1.041, Seconds: 54.19\n",
      "Epoch   9/10 Batch  680/781 - Loss:  0.993, Seconds: 71.80\n",
      "Epoch   9/10 Batch  700/781 - Loss:  1.030, Seconds: 71.56\n",
      "Epoch   9/10 Batch  720/781 - Loss:  1.124, Seconds: 72.50\n",
      "Epoch   9/10 Batch  740/781 - Loss:  1.015, Seconds: 67.31\n",
      "Epoch   9/10 Batch  760/781 - Loss:  1.067, Seconds: 72.42\n",
      "Average loss for this update: 1.048\n",
      "No Improvement.\n",
      "Epoch   9/10 Batch  780/781 - Loss:  1.159, Seconds: 70.50\n",
      "Epoch  10/10 Batch   20/781 - Loss:  1.246, Seconds: 68.18\n",
      "Epoch  10/10 Batch   40/781 - Loss:  1.079, Seconds: 64.42\n",
      "Epoch  10/10 Batch   60/781 - Loss:  1.007, Seconds: 57.09\n",
      "Epoch  10/10 Batch   80/781 - Loss:  0.909, Seconds: 56.48\n",
      "Epoch  10/10 Batch  100/781 - Loss:  1.068, Seconds: 56.54\n",
      "Epoch  10/10 Batch  120/781 - Loss:  1.021, Seconds: 60.08\n",
      "Epoch  10/10 Batch  140/781 - Loss:  0.970, Seconds: 71.07\n",
      "Epoch  10/10 Batch  160/781 - Loss:  0.945, Seconds: 59.18\n",
      "Epoch  10/10 Batch  180/781 - Loss:  1.046, Seconds: 62.39\n",
      "Epoch  10/10 Batch  200/781 - Loss:  1.017, Seconds: 57.94\n",
      "Epoch  10/10 Batch  220/781 - Loss:  0.922, Seconds: 52.57\n",
      "Epoch  10/10 Batch  240/781 - Loss:  0.983, Seconds: 66.13\n",
      "Average loss for this update: 1.028\n",
      "New Record!\n",
      "Epoch  10/10 Batch  260/781 - Loss:  1.138, Seconds: 65.32\n",
      "Epoch  10/10 Batch  280/781 - Loss:  1.029, Seconds: 61.23\n",
      "Epoch  10/10 Batch  300/781 - Loss:  1.033, Seconds: 61.27\n",
      "Epoch  10/10 Batch  320/781 - Loss:  1.090, Seconds: 61.07\n",
      "Epoch  10/10 Batch  340/781 - Loss:  1.004, Seconds: 71.17\n",
      "Epoch  10/10 Batch  360/781 - Loss:  0.873, Seconds: 69.83\n",
      "Epoch  10/10 Batch  380/781 - Loss:  1.063, Seconds: 48.37\n",
      "Epoch  10/10 Batch  400/781 - Loss:  1.066, Seconds: 69.31\n",
      "Epoch  10/10 Batch  420/781 - Loss:  0.960, Seconds: 58.02\n",
      "Epoch  10/10 Batch  440/781 - Loss:  0.958, Seconds: 67.12\n",
      "Epoch  10/10 Batch  460/781 - Loss:  1.024, Seconds: 73.06\n",
      "Epoch  10/10 Batch  480/781 - Loss:  0.959, Seconds: 63.48\n",
      "Epoch  10/10 Batch  500/781 - Loss:  0.905, Seconds: 59.53\n",
      "Average loss for this update: 1.0\n",
      "New Record!\n",
      "Epoch  10/10 Batch  520/781 - Loss:  1.051, Seconds: 63.62\n",
      "Epoch  10/10 Batch  540/781 - Loss:  0.908, Seconds: 60.01\n",
      "Epoch  10/10 Batch  560/781 - Loss:  0.938, Seconds: 70.25\n",
      "Epoch  10/10 Batch  580/781 - Loss:  1.100, Seconds: 61.73\n",
      "Epoch  10/10 Batch  600/781 - Loss:  1.038, Seconds: 73.02\n",
      "Epoch  10/10 Batch  620/781 - Loss:  0.953, Seconds: 72.83\n",
      "Epoch  10/10 Batch  640/781 - Loss:  1.011, Seconds: 58.37\n",
      "Epoch  10/10 Batch  660/781 - Loss:  0.991, Seconds: 53.33\n",
      "Epoch  10/10 Batch  680/781 - Loss:  0.953, Seconds: 72.00\n",
      "Epoch  10/10 Batch  700/781 - Loss:  0.988, Seconds: 72.06\n",
      "Epoch  10/10 Batch  720/781 - Loss:  1.072, Seconds: 71.53\n",
      "Epoch  10/10 Batch  740/781 - Loss:  0.985, Seconds: 68.15\n",
      "Epoch  10/10 Batch  760/781 - Loss:  1.017, Seconds: 71.85\n",
      "Average loss for this update: 1.007\n",
      "No Improvement.\n",
      "Epoch  10/10 Batch  780/781 - Loss:  1.124, Seconds: 67.69\n"
     ]
    }
   ],
   "source": [
    "# Train the Model\n",
    "learning_rate_decay = 0.95\n",
    "min_learning_rate = 0.0005\n",
    "display_step = 20 # Check training loss after every 20 batches\n",
    "stop_early = 0 \n",
    "stop = 3 # If the update loss does not decrease in 3 consecutive update checks, stop training\n",
    "per_epoch = 3 # Make 3 update checks per epoch\n",
    "update_check = (len(sorted_texts_short)//batch_size//per_epoch)-1\n",
    "\n",
    "update_loss = 0 \n",
    "batch_loss = 0\n",
    "summary_update_loss = [] # Record the update losses for saving improvements in the model\n",
    "\n",
    "checkpoint = \"./best_model.ckpt\" \n",
    "with tf.Session(graph=train_graph) as sess:\n",
    "    sess.run(tf.global_variables_initializer())\n",
    "    \n",
    "    # If we want to continue training a previous session\n",
    "    #loader = tf.train.import_meta_graph(\"./\" + checkpoint + '.meta')\n",
    "    #loader.restore(sess, checkpoint)\n",
    "    \n",
    "    for epoch_i in range(1, epochs+1):\n",
    "        update_loss = 0\n",
    "        batch_loss = 0\n",
    "        for batch_i, (summaries_batch, texts_batch, summaries_lengths, texts_lengths) in enumerate(\n",
    "                get_batches(sorted_summaries_short, sorted_texts_short, batch_size)):\n",
    "            start_time = time.time()\n",
    "            _, loss = sess.run(\n",
    "                [train_op, cost],\n",
    "                {input_data: texts_batch,\n",
    "                 targets: summaries_batch,\n",
    "                 lr: learning_rate,\n",
    "                 summary_length: summaries_lengths,\n",
    "                 text_length: texts_lengths,\n",
    "                 keep_prob: keep_probability})\n",
    "\n",
    "            batch_loss += loss\n",
    "            update_loss += loss\n",
    "            end_time = time.time()\n",
    "            batch_time = end_time - start_time\n",
    "\n",
    "            if batch_i % display_step == 0 and batch_i > 0:\n",
    "                print('Epoch {:>3}/{} Batch {:>4}/{} - Loss: {:>6.3f}, Seconds: {:>4.2f}'\n",
    "                      .format(epoch_i,\n",
    "                              epochs, \n",
    "                              batch_i, \n",
    "                              len(sorted_texts_short) // batch_size, \n",
    "                              batch_loss / display_step, \n",
    "                              batch_time*display_step))\n",
    "                batch_loss = 0\n",
    "\n",
    "            if batch_i % update_check == 0 and batch_i > 0:\n",
    "                print(\"Average loss for this update:\", round(update_loss/update_check,3))\n",
    "                summary_update_loss.append(update_loss)\n",
    "                \n",
    "                # If the update loss is at a new minimum, save the model\n",
    "                if update_loss <= min(summary_update_loss):\n",
    "                    print('New Record!') \n",
    "                    stop_early = 0\n",
    "                    saver = tf.train.Saver() \n",
    "                    saver.save(sess, checkpoint)\n",
    "\n",
    "                else:\n",
    "                    print(\"No Improvement.\")\n",
    "                    stop_early += 1\n",
    "                    if stop_early == stop:\n",
    "                        break\n",
    "                update_loss = 0\n",
    "            \n",
    "                    \n",
    "        # Reduce learning rate, but not below its minimum value\n",
    "        learning_rate *= learning_rate_decay\n",
    "        if learning_rate < min_learning_rate:\n",
    "            learning_rate = min_learning_rate\n",
    "        \n",
    "        if stop_early == stop:\n",
    "            print(\"Stopping Training.\")\n",
    "            break"
   ]
  },
  {
   "cell_type": "markdown",
   "metadata": {},
   "source": [
    "## 测试效果"
   ]
  },
  {
   "cell_type": "code",
   "execution_count": 42,
   "metadata": {
    "collapsed": true
   },
   "outputs": [],
   "source": [
    "def text_to_seq(text):\n",
    "    '''Prepare the text for the model'''\n",
    "    \n",
    "    text = clean_text(text)\n",
    "    return [vocab_to_int.get(word, vocab_to_int['<UNK>']) for word in text.split()]"
   ]
  },
  {
   "cell_type": "code",
   "execution_count": 47,
   "metadata": {
    "collapsed": false
   },
   "outputs": [
    {
     "name": "stdout",
     "output_type": "stream",
     "text": [
      "[nltk_data] Downloading package stopwords to\n",
      "[nltk_data]     C:\\Users\\jinger\\AppData\\Roaming\\nltk_data...\n",
      "[nltk_data]   Package stopwords is already up-to-date!\n",
      "INFO:tensorflow:Restoring parameters from ./best_model.ckpt\n",
      "Original Text: i have not met a popchips product i did not like  so i knew i would not be disappointed with these  these are even more amazing than i imagined they would be  they are perfectly salty with a hint of sweet  if you love sweet potato chips or fries  you will love these  i hope they are available on subscribe and save soon \n",
      "\n",
      "Text\n",
      "  Word Ids:    [33589, 53956, 41347, 910, 31649, 49128, 45095, 2179, 20038, 45725, 49128, 8089, 23120, 27060, 30514, 33044, 30514, 7376, 37453, 57282, 33044, 53952, 29754, 5612, 43752, 26987]\n",
      "  Input Words: met popchips product like knew would disappointed even amazing imagined would perfectly salty hint sweet love sweet potato chips fries love hope available subscribe save soon\n",
      "\n",
      "Summary\n",
      "  Word Ids:       [4716, 53100, 20558, 8039, 45442, 20623, 8039]\n",
      "  Response Words: oh not ruined chip original delivery chip\n"
     ]
    }
   ],
   "source": [
    "# Create your own review or use one from the dataset\n",
    "#input_sentence = \"I have never eaten an apple before, but this red one was nice. \\\n",
    "                  #I think that I will try a green apple next time.\"\n",
    "#text = text_to_seq(input_sentence)\n",
    "import nltk\n",
    "nltk.download('stopwords')\n",
    "random = np.random.randint(0,len(clean_texts))\n",
    "input_sentence = clean_texts[random]\n",
    "text = text_to_seq(clean_texts[random])\n",
    "\n",
    "checkpoint = \"./best_model.ckpt\"\n",
    "\n",
    "loaded_graph = tf.Graph()\n",
    "with tf.Session(graph=loaded_graph) as sess:\n",
    "    # Load saved model\n",
    "    loader = tf.train.import_meta_graph(checkpoint + '.meta')\n",
    "    loader.restore(sess, checkpoint)\n",
    "\n",
    "    input_data = loaded_graph.get_tensor_by_name('input:0')\n",
    "    logits = loaded_graph.get_tensor_by_name('predictions:0')\n",
    "    text_length = loaded_graph.get_tensor_by_name('text_length:0')\n",
    "    summary_length = loaded_graph.get_tensor_by_name('summary_length:0')\n",
    "    keep_prob = loaded_graph.get_tensor_by_name('keep_prob:0')\n",
    "    \n",
    "    #Multiply by batch_size to match the model's input parameters\n",
    "    answer_logits = sess.run(logits, {input_data: [text]*batch_size, \n",
    "                                      summary_length: [np.random.randint(5,8)], \n",
    "                                      text_length: [len(text)]*batch_size,\n",
    "                                      keep_prob: 1.0})[0] \n",
    "\n",
    "# Remove the padding from the tweet\n",
    "pad = vocab_to_int[\"<PAD>\"] \n",
    "\n",
    "print('Original Text:', input_sentence)\n",
    "\n",
    "print('\\nText')\n",
    "print('  Word Ids:    {}'.format([i for i in text]))\n",
    "print('  Input Words: {}'.format(\" \".join([int_to_vocab[i] for i in text])))\n",
    "\n",
    "print('\\nSummary')\n",
    "print('  Word Ids:       {}'.format([i for i in answer_logits if i != pad]))\n",
    "print('  Response Words: {}'.format(\" \".join([int_to_vocab[i] for i in answer_logits if i != pad])))"
   ]
  },
  {
   "cell_type": "markdown",
   "metadata": {
    "collapsed": true
   },
   "source": [
    "Examples of reviews and summaries:\n",
    "- Review(1): The coffee tasted great and was at such a good price! I highly recommend this to everyone!\n",
    "- Summary(1): great coffee\n",
    "\n",
    "\n",
    "- Review(2): This is the worst cheese that I have ever bought! I will never buy it again and I hope you won't either!\n",
    "- Summary(2): omg gross gross\n",
    "\n",
    "\n",
    "- Review(3): love individual oatmeal cups found years ago sam quit selling sound big lots quit selling found target expensive buy individually trilled get entire case time go anywhere need water microwave spoon know quaker flavor packets\n",
    "- Summary(3): love it"
   ]
  },
  {
   "cell_type": "code",
   "execution_count": null,
   "metadata": {
    "collapsed": true
   },
   "outputs": [],
   "source": []
  }
 ],
 "metadata": {
  "anaconda-cloud": {},
  "kernelspec": {
   "display_name": "Python [conda env:tensorflow]",
   "language": "python",
   "name": "conda-env-tensorflow-py"
  },
  "language_info": {
   "codemirror_mode": {
    "name": "ipython",
    "version": 3
   },
   "file_extension": ".py",
   "mimetype": "text/x-python",
   "name": "python",
   "nbconvert_exporter": "python",
   "pygments_lexer": "ipython3",
   "version": "3.5.6"
  }
 },
 "nbformat": 4,
 "nbformat_minor": 1
}
